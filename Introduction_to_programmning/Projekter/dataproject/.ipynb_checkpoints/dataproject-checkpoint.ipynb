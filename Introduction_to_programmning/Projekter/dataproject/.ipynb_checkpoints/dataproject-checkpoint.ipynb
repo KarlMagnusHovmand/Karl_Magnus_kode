{
 "cells": [
  {
   "cell_type": "markdown",
   "metadata": {},
   "source": [
    "# Correlation between fuel prices and newly registered vehicles in Denmark"
   ]
  },
  {
   "cell_type": "markdown",
   "metadata": {},
   "source": [
    "> **Note the following:** \n",
    "> 1. This is *not* meant to be an example of an actual **data analysis project**, just an example of how to structure such a project.\n",
    "> 1. Remember the general advice on structuring and commenting your code from [lecture 5](https://numeconcopenhagen.netlify.com/lectures/Workflow_and_debugging).\n",
    "> 1. Remember this [guide](https://www.markdownguide.org/basic-syntax/) on markdown and (a bit of) latex.\n",
    "> 1. Turn on automatic numbering by clicking on the small icon on top of the table of contents in the left sidebar.\n",
    "> 1. The `dataproject.py` file includes a function which can be used multiple times in this notebook."
   ]
  },
  {
   "cell_type": "markdown",
   "metadata": {},
   "source": [
    "Imports and set magics:"
   ]
  },
  {
   "cell_type": "code",
   "execution_count": 1,
   "metadata": {},
   "outputs": [],
   "source": [
    "# Importing packages for later use\n",
    "import numpy as np\n",
    "import matplotlib.pyplot as plt\n",
    "plt.style.use('seaborn-whitegrid')\n",
    "import pandas as pd\n",
    "import pydst\n",
    "dst = pydst.Dst(lang='en')\n",
    "import ipywidgets as widgets\n",
    "\n",
    "# autoreload modules when code is run\n",
    "%load_ext autoreload\n",
    "%autoreload 2\n",
    "\n",
    "# user written modules\n",
    "import dataproject"
   ]
  },
  {
   "cell_type": "markdown",
   "metadata": {},
   "source": [
    "# Overview of data from DST"
   ]
  },
  {
   "cell_type": "code",
   "execution_count": 2,
   "metadata": {},
   "outputs": [
    {
     "data": {
      "text/html": [
       "<div>\n",
       "<style scoped>\n",
       "    .dataframe tbody tr th:only-of-type {\n",
       "        vertical-align: middle;\n",
       "    }\n",
       "\n",
       "    .dataframe tbody tr th {\n",
       "        vertical-align: top;\n",
       "    }\n",
       "\n",
       "    .dataframe thead th {\n",
       "        text-align: right;\n",
       "    }\n",
       "</style>\n",
       "<table border=\"1\" class=\"dataframe\">\n",
       "  <thead>\n",
       "    <tr style=\"text-align: right;\">\n",
       "      <th></th>\n",
       "      <th>id</th>\n",
       "      <th>desc</th>\n",
       "      <th>active</th>\n",
       "      <th>hasSubjects</th>\n",
       "    </tr>\n",
       "  </thead>\n",
       "  <tbody>\n",
       "    <tr>\n",
       "      <th>0</th>\n",
       "      <td>1</td>\n",
       "      <td>People</td>\n",
       "      <td>True</td>\n",
       "      <td>True</td>\n",
       "    </tr>\n",
       "    <tr>\n",
       "      <th>1</th>\n",
       "      <td>2</td>\n",
       "      <td>Labour and income</td>\n",
       "      <td>True</td>\n",
       "      <td>True</td>\n",
       "    </tr>\n",
       "    <tr>\n",
       "      <th>2</th>\n",
       "      <td>3</td>\n",
       "      <td>Economy</td>\n",
       "      <td>True</td>\n",
       "      <td>True</td>\n",
       "    </tr>\n",
       "    <tr>\n",
       "      <th>3</th>\n",
       "      <td>4</td>\n",
       "      <td>Social conditions</td>\n",
       "      <td>True</td>\n",
       "      <td>True</td>\n",
       "    </tr>\n",
       "    <tr>\n",
       "      <th>4</th>\n",
       "      <td>5</td>\n",
       "      <td>Education and research</td>\n",
       "      <td>True</td>\n",
       "      <td>True</td>\n",
       "    </tr>\n",
       "    <tr>\n",
       "      <th>5</th>\n",
       "      <td>6</td>\n",
       "      <td>Business</td>\n",
       "      <td>True</td>\n",
       "      <td>True</td>\n",
       "    </tr>\n",
       "    <tr>\n",
       "      <th>6</th>\n",
       "      <td>7</td>\n",
       "      <td>Transport</td>\n",
       "      <td>True</td>\n",
       "      <td>True</td>\n",
       "    </tr>\n",
       "    <tr>\n",
       "      <th>7</th>\n",
       "      <td>8</td>\n",
       "      <td>Culture and leisure</td>\n",
       "      <td>True</td>\n",
       "      <td>True</td>\n",
       "    </tr>\n",
       "    <tr>\n",
       "      <th>8</th>\n",
       "      <td>9</td>\n",
       "      <td>Environment and energy</td>\n",
       "      <td>True</td>\n",
       "      <td>True</td>\n",
       "    </tr>\n",
       "    <tr>\n",
       "      <th>9</th>\n",
       "      <td>19</td>\n",
       "      <td>Other</td>\n",
       "      <td>True</td>\n",
       "      <td>True</td>\n",
       "    </tr>\n",
       "  </tbody>\n",
       "</table>\n",
       "</div>"
      ],
      "text/plain": [
       "   id                    desc  active  hasSubjects\n",
       "0   1                  People    True         True\n",
       "1   2       Labour and income    True         True\n",
       "2   3                 Economy    True         True\n",
       "3   4       Social conditions    True         True\n",
       "4   5  Education and research    True         True\n",
       "5   6                Business    True         True\n",
       "6   7               Transport    True         True\n",
       "7   8     Culture and leisure    True         True\n",
       "8   9  Environment and energy    True         True\n",
       "9  19                   Other    True         True"
      ]
     },
     "execution_count": 2,
     "metadata": {},
     "output_type": "execute_result"
    }
   ],
   "source": [
    "# Overview of subjects in dataset\n",
    "dst.get_subjects()"
   ]
  },
  {
   "cell_type": "code",
   "execution_count": 3,
   "metadata": {},
   "outputs": [
    {
     "name": "stdout",
     "output_type": "stream",
     "text": [
      "<class 'pandas.core.frame.DataFrame'>\n"
     ]
    },
    {
     "data": {
      "text/html": [
       "<div>\n",
       "<style scoped>\n",
       "    .dataframe tbody tr th:only-of-type {\n",
       "        vertical-align: middle;\n",
       "    }\n",
       "\n",
       "    .dataframe tbody tr th {\n",
       "        vertical-align: top;\n",
       "    }\n",
       "\n",
       "    .dataframe thead th {\n",
       "        text-align: right;\n",
       "    }\n",
       "</style>\n",
       "<table border=\"1\" class=\"dataframe\">\n",
       "  <thead>\n",
       "    <tr style=\"text-align: right;\">\n",
       "      <th></th>\n",
       "      <th>id</th>\n",
       "      <th>text</th>\n",
       "      <th>unit</th>\n",
       "      <th>updated</th>\n",
       "      <th>firstPeriod</th>\n",
       "      <th>latestPeriod</th>\n",
       "      <th>active</th>\n",
       "      <th>variables</th>\n",
       "    </tr>\n",
       "  </thead>\n",
       "  <tbody>\n",
       "    <tr>\n",
       "      <th>0</th>\n",
       "      <td>NAN1</td>\n",
       "      <td>Demand and supply</td>\n",
       "      <td>-</td>\n",
       "      <td>2022-03-31 08:00:00</td>\n",
       "      <td>1966</td>\n",
       "      <td>2021</td>\n",
       "      <td>True</td>\n",
       "      <td>[transaction, price unit, time]</td>\n",
       "    </tr>\n",
       "    <tr>\n",
       "      <th>1</th>\n",
       "      <td>VNAN1</td>\n",
       "      <td>Versionstable NAN1 - Demand and supply (year)</td>\n",
       "      <td>-</td>\n",
       "      <td>2022-03-31 08:00:00</td>\n",
       "      <td>1966</td>\n",
       "      <td>2021</td>\n",
       "      <td>True</td>\n",
       "      <td>[version, transaction, price unit, time]</td>\n",
       "    </tr>\n",
       "    <tr>\n",
       "      <th>2</th>\n",
       "      <td>NAN2</td>\n",
       "      <td>Real gross national disposable income etc.</td>\n",
       "      <td>M dkk</td>\n",
       "      <td>2022-03-31 08:00:00</td>\n",
       "      <td>1966</td>\n",
       "      <td>2021</td>\n",
       "      <td>True</td>\n",
       "      <td>[transaction, price unit, time]</td>\n",
       "    </tr>\n",
       "    <tr>\n",
       "      <th>3</th>\n",
       "      <td>NAN3</td>\n",
       "      <td>Consumption, disposable income and saving for ...</td>\n",
       "      <td>-</td>\n",
       "      <td>2022-03-31 08:00:00</td>\n",
       "      <td>1995</td>\n",
       "      <td>2021</td>\n",
       "      <td>True</td>\n",
       "      <td>[transaction, price unit, time]</td>\n",
       "    </tr>\n",
       "    <tr>\n",
       "      <th>4</th>\n",
       "      <td>NKN1</td>\n",
       "      <td>Demand and supply</td>\n",
       "      <td>-</td>\n",
       "      <td>2022-03-31 08:00:00</td>\n",
       "      <td>1990Q1</td>\n",
       "      <td>2021Q4</td>\n",
       "      <td>True</td>\n",
       "      <td>[transaction, price unit, seasonal adjustment,...</td>\n",
       "    </tr>\n",
       "    <tr>\n",
       "      <th>...</th>\n",
       "      <td>...</td>\n",
       "      <td>...</td>\n",
       "      <td>...</td>\n",
       "      <td>...</td>\n",
       "      <td>...</td>\n",
       "      <td>...</td>\n",
       "      <td>...</td>\n",
       "      <td>...</td>\n",
       "    </tr>\n",
       "    <tr>\n",
       "      <th>360</th>\n",
       "      <td>DNBSTP</td>\n",
       "      <td>Transactions using Danish issued cards</td>\n",
       "      <td>-</td>\n",
       "      <td>2022-02-15 08:00:00</td>\n",
       "      <td>2016Q1</td>\n",
       "      <td>2021Q4</td>\n",
       "      <td>True</td>\n",
       "      <td>[type, cardholder, data type, time]</td>\n",
       "    </tr>\n",
       "    <tr>\n",
       "      <th>361</th>\n",
       "      <td>DNBSKK</td>\n",
       "      <td>ATMs and card terminals</td>\n",
       "      <td>Number</td>\n",
       "      <td>2022-02-15 08:00:00</td>\n",
       "      <td>2016Q1</td>\n",
       "      <td>2021Q4</td>\n",
       "      <td>True</td>\n",
       "      <td>[devices, time]</td>\n",
       "    </tr>\n",
       "    <tr>\n",
       "      <th>362</th>\n",
       "      <td>DNBSHI</td>\n",
       "      <td>Withdrawals and deposits</td>\n",
       "      <td>-</td>\n",
       "      <td>2022-02-15 08:00:00</td>\n",
       "      <td>2016Q1</td>\n",
       "      <td>2021Q4</td>\n",
       "      <td>True</td>\n",
       "      <td>[withdrawels and deposits, point of operation,...</td>\n",
       "    </tr>\n",
       "    <tr>\n",
       "      <th>363</th>\n",
       "      <td>DNBSVKO</td>\n",
       "      <td>Credit transfers in currency</td>\n",
       "      <td>Number</td>\n",
       "      <td>2022-02-15 08:00:00</td>\n",
       "      <td>2016Q1</td>\n",
       "      <td>2021Q4</td>\n",
       "      <td>True</td>\n",
       "      <td>[type, direction, geographical coverage, data ...</td>\n",
       "    </tr>\n",
       "    <tr>\n",
       "      <th>364</th>\n",
       "      <td>DNBSIKO</td>\n",
       "      <td>Domestic credit transfers in Danish kroner</td>\n",
       "      <td>-</td>\n",
       "      <td>2022-02-15 08:00:00</td>\n",
       "      <td>2016Q1</td>\n",
       "      <td>2021Q4</td>\n",
       "      <td>True</td>\n",
       "      <td>[type, initiation, data type, time]</td>\n",
       "    </tr>\n",
       "  </tbody>\n",
       "</table>\n",
       "<p>365 rows × 8 columns</p>\n",
       "</div>"
      ],
      "text/plain": [
       "          id                                               text    unit  \\\n",
       "0       NAN1                                  Demand and supply       -   \n",
       "1      VNAN1      Versionstable NAN1 - Demand and supply (year)       -   \n",
       "2       NAN2         Real gross national disposable income etc.   M dkk   \n",
       "3       NAN3  Consumption, disposable income and saving for ...       -   \n",
       "4       NKN1                                  Demand and supply       -   \n",
       "..       ...                                                ...     ...   \n",
       "360   DNBSTP             Transactions using Danish issued cards       -   \n",
       "361   DNBSKK                            ATMs and card terminals  Number   \n",
       "362   DNBSHI                           Withdrawals and deposits       -   \n",
       "363  DNBSVKO                       Credit transfers in currency  Number   \n",
       "364  DNBSIKO         Domestic credit transfers in Danish kroner       -   \n",
       "\n",
       "                updated firstPeriod latestPeriod  active  \\\n",
       "0   2022-03-31 08:00:00        1966         2021    True   \n",
       "1   2022-03-31 08:00:00        1966         2021    True   \n",
       "2   2022-03-31 08:00:00        1966         2021    True   \n",
       "3   2022-03-31 08:00:00        1995         2021    True   \n",
       "4   2022-03-31 08:00:00      1990Q1       2021Q4    True   \n",
       "..                  ...         ...          ...     ...   \n",
       "360 2022-02-15 08:00:00      2016Q1       2021Q4    True   \n",
       "361 2022-02-15 08:00:00      2016Q1       2021Q4    True   \n",
       "362 2022-02-15 08:00:00      2016Q1       2021Q4    True   \n",
       "363 2022-02-15 08:00:00      2016Q1       2021Q4    True   \n",
       "364 2022-02-15 08:00:00      2016Q1       2021Q4    True   \n",
       "\n",
       "                                             variables  \n",
       "0                      [transaction, price unit, time]  \n",
       "1             [version, transaction, price unit, time]  \n",
       "2                      [transaction, price unit, time]  \n",
       "3                      [transaction, price unit, time]  \n",
       "4    [transaction, price unit, seasonal adjustment,...  \n",
       "..                                                 ...  \n",
       "360                [type, cardholder, data type, time]  \n",
       "361                                    [devices, time]  \n",
       "362  [withdrawels and deposits, point of operation,...  \n",
       "363  [type, direction, geographical coverage, data ...  \n",
       "364                [type, initiation, data type, time]  \n",
       "\n",
       "[365 rows x 8 columns]"
      ]
     },
     "metadata": {},
     "output_type": "display_data"
    }
   ],
   "source": [
    "# Opening subset id 3, Economy\n",
    "tables = dst.get_tables(subjects=['3'])\n",
    "print(type(tables))\n",
    "display(tables)"
   ]
  },
  {
   "cell_type": "code",
   "execution_count": 4,
   "metadata": {},
   "outputs": [
    {
     "data": {
      "text/html": [
       "<div>\n",
       "<style scoped>\n",
       "    .dataframe tbody tr th:only-of-type {\n",
       "        vertical-align: middle;\n",
       "    }\n",
       "\n",
       "    .dataframe tbody tr th {\n",
       "        vertical-align: top;\n",
       "    }\n",
       "\n",
       "    .dataframe thead th {\n",
       "        text-align: right;\n",
       "    }\n",
       "</style>\n",
       "<table border=\"1\" class=\"dataframe\">\n",
       "  <thead>\n",
       "    <tr style=\"text-align: right;\">\n",
       "      <th></th>\n",
       "      <th>id</th>\n",
       "      <th>text</th>\n",
       "      <th>unit</th>\n",
       "      <th>updated</th>\n",
       "      <th>firstPeriod</th>\n",
       "      <th>latestPeriod</th>\n",
       "      <th>active</th>\n",
       "      <th>variables</th>\n",
       "    </tr>\n",
       "  </thead>\n",
       "  <tbody>\n",
       "    <tr>\n",
       "      <th>275</th>\n",
       "      <td>PRIS111</td>\n",
       "      <td>Consumer price index</td>\n",
       "      <td>-</td>\n",
       "      <td>2022-04-11 08:00:00</td>\n",
       "      <td>2001M01</td>\n",
       "      <td>2022M03</td>\n",
       "      <td>True</td>\n",
       "      <td>[commodity group, unit, time]</td>\n",
       "    </tr>\n",
       "  </tbody>\n",
       "</table>\n",
       "</div>"
      ],
      "text/plain": [
       "          id                  text unit             updated firstPeriod  \\\n",
       "275  PRIS111  Consumer price index    - 2022-04-11 08:00:00     2001M01   \n",
       "\n",
       "    latestPeriod  active                      variables  \n",
       "275      2022M03    True  [commodity group, unit, time]  "
      ]
     },
     "execution_count": 4,
     "metadata": {},
     "output_type": "execute_result"
    }
   ],
   "source": [
    "# Opening table 'PRIS111' - Consumer Price Index\n",
    "tables[tables.id == 'PRIS111']"
   ]
  },
  {
   "cell_type": "code",
   "execution_count": 5,
   "metadata": {},
   "outputs": [
    {
     "data": {
      "text/html": [
       "<div>\n",
       "<style scoped>\n",
       "    .dataframe tbody tr th:only-of-type {\n",
       "        vertical-align: middle;\n",
       "    }\n",
       "\n",
       "    .dataframe tbody tr th {\n",
       "        vertical-align: top;\n",
       "    }\n",
       "\n",
       "    .dataframe thead th {\n",
       "        text-align: right;\n",
       "    }\n",
       "</style>\n",
       "<table border=\"1\" class=\"dataframe\">\n",
       "  <thead>\n",
       "    <tr style=\"text-align: right;\">\n",
       "      <th></th>\n",
       "      <th>id</th>\n",
       "      <th>text</th>\n",
       "      <th>elimination</th>\n",
       "      <th>time</th>\n",
       "      <th>values</th>\n",
       "    </tr>\n",
       "  </thead>\n",
       "  <tbody>\n",
       "    <tr>\n",
       "      <th>0</th>\n",
       "      <td>VAREGR</td>\n",
       "      <td>commodity group</td>\n",
       "      <td>True</td>\n",
       "      <td>False</td>\n",
       "      <td>[{'id': '000000', 'text': '00 Consumer price i...</td>\n",
       "    </tr>\n",
       "    <tr>\n",
       "      <th>1</th>\n",
       "      <td>ENHED</td>\n",
       "      <td>unit</td>\n",
       "      <td>False</td>\n",
       "      <td>False</td>\n",
       "      <td>[{'id': '100', 'text': 'Index'}, {'id': '200',...</td>\n",
       "    </tr>\n",
       "    <tr>\n",
       "      <th>2</th>\n",
       "      <td>Tid</td>\n",
       "      <td>time</td>\n",
       "      <td>False</td>\n",
       "      <td>True</td>\n",
       "      <td>[{'id': '2001M01', 'text': '2001M01'}, {'id': ...</td>\n",
       "    </tr>\n",
       "  </tbody>\n",
       "</table>\n",
       "</div>"
      ],
      "text/plain": [
       "       id             text  elimination   time  \\\n",
       "0  VAREGR  commodity group         True  False   \n",
       "1   ENHED             unit        False  False   \n",
       "2     Tid             time        False   True   \n",
       "\n",
       "                                              values  \n",
       "0  [{'id': '000000', 'text': '00 Consumer price i...  \n",
       "1  [{'id': '100', 'text': 'Index'}, {'id': '200',...  \n",
       "2  [{'id': '2001M01', 'text': '2001M01'}, {'id': ...  "
      ]
     },
     "execution_count": 5,
     "metadata": {},
     "output_type": "execute_result"
    }
   ],
   "source": [
    "# Defining the Consumer Price Index table as FPI\n",
    "FPI = dst.get_variables(table_id='PRIS111')\n",
    "FPI"
   ]
  },
  {
   "cell_type": "code",
   "execution_count": 6,
   "metadata": {
    "tags": []
   },
   "outputs": [],
   "source": [
    "# Illustrating the FPI table by id and text\n",
    "FPI_show = dst.get_variables(table_id='PRIS111')"
   ]
  },
  {
   "cell_type": "code",
   "execution_count": 7,
   "metadata": {
    "tags": []
   },
   "outputs": [
    {
     "data": {
      "text/html": [
       "<div>\n",
       "<style scoped>\n",
       "    .dataframe tbody tr th:only-of-type {\n",
       "        vertical-align: middle;\n",
       "    }\n",
       "\n",
       "    .dataframe tbody tr th {\n",
       "        vertical-align: top;\n",
       "    }\n",
       "\n",
       "    .dataframe thead th {\n",
       "        text-align: right;\n",
       "    }\n",
       "</style>\n",
       "<table border=\"1\" class=\"dataframe\">\n",
       "  <thead>\n",
       "    <tr style=\"text-align: right;\">\n",
       "      <th></th>\n",
       "      <th>id</th>\n",
       "      <th>text</th>\n",
       "      <th>unit</th>\n",
       "      <th>updated</th>\n",
       "      <th>firstPeriod</th>\n",
       "      <th>latestPeriod</th>\n",
       "      <th>active</th>\n",
       "      <th>variables</th>\n",
       "    </tr>\n",
       "  </thead>\n",
       "  <tbody>\n",
       "    <tr>\n",
       "      <th>0</th>\n",
       "      <td>BIL5</td>\n",
       "      <td>New registration of motor vehicles</td>\n",
       "      <td>Number</td>\n",
       "      <td>2022-04-12 08:00:00</td>\n",
       "      <td>1992M01</td>\n",
       "      <td>2022M03</td>\n",
       "      <td>True</td>\n",
       "      <td>[type of vehicle, time]</td>\n",
       "    </tr>\n",
       "    <tr>\n",
       "      <th>1</th>\n",
       "      <td>BIL55</td>\n",
       "      <td>New registrated passenger cars</td>\n",
       "      <td>Number</td>\n",
       "      <td>2022-04-12 08:00:00</td>\n",
       "      <td>2007M01</td>\n",
       "      <td>2022M03</td>\n",
       "      <td>True</td>\n",
       "      <td>[type of registration, time]</td>\n",
       "    </tr>\n",
       "    <tr>\n",
       "      <th>2</th>\n",
       "      <td>BIL6</td>\n",
       "      <td>New registrations, sale of second hand vehicle...</td>\n",
       "      <td>Number</td>\n",
       "      <td>2022-04-12 08:00:00</td>\n",
       "      <td>2000M01</td>\n",
       "      <td>2022M03</td>\n",
       "      <td>True</td>\n",
       "      <td>[type of vehicle, unit, time]</td>\n",
       "    </tr>\n",
       "    <tr>\n",
       "      <th>3</th>\n",
       "      <td>BIL50</td>\n",
       "      <td>New registration of passenger cars</td>\n",
       "      <td>-</td>\n",
       "      <td>2022-04-12 08:00:00</td>\n",
       "      <td>2004M01</td>\n",
       "      <td>2022M03</td>\n",
       "      <td>True</td>\n",
       "      <td>[ownership, car segment, unit, time]</td>\n",
       "    </tr>\n",
       "    <tr>\n",
       "      <th>4</th>\n",
       "      <td>BIL51</td>\n",
       "      <td>New registrations of passenger cars</td>\n",
       "      <td>Number</td>\n",
       "      <td>2022-04-12 08:00:00</td>\n",
       "      <td>2011M01</td>\n",
       "      <td>2022M03</td>\n",
       "      <td>True</td>\n",
       "      <td>[ownership, propellant, time]</td>\n",
       "    </tr>\n",
       "    <tr>\n",
       "      <th>...</th>\n",
       "      <td>...</td>\n",
       "      <td>...</td>\n",
       "      <td>...</td>\n",
       "      <td>...</td>\n",
       "      <td>...</td>\n",
       "      <td>...</td>\n",
       "      <td>...</td>\n",
       "      <td>...</td>\n",
       "    </tr>\n",
       "    <tr>\n",
       "      <th>162</th>\n",
       "      <td>MOERKE1</td>\n",
       "      <td>Injured in road traffic accidents reported by ...</td>\n",
       "      <td>Number</td>\n",
       "      <td>2021-04-16 08:00:00</td>\n",
       "      <td>2009</td>\n",
       "      <td>2018</td>\n",
       "      <td>True</td>\n",
       "      <td>[reporter, accident situation, means of transp...</td>\n",
       "    </tr>\n",
       "    <tr>\n",
       "      <th>163</th>\n",
       "      <td>BANE91</td>\n",
       "      <td>Fatalities and injuries in railway traffic acc...</td>\n",
       "      <td>Number</td>\n",
       "      <td>2021-08-31 08:00:00</td>\n",
       "      <td>1993</td>\n",
       "      <td>2020</td>\n",
       "      <td>True</td>\n",
       "      <td>[railway system, category of person, casualty,...</td>\n",
       "    </tr>\n",
       "    <tr>\n",
       "      <th>164</th>\n",
       "      <td>BANE92</td>\n",
       "      <td>Fatalities and injuries in railway traffic acc...</td>\n",
       "      <td>Number</td>\n",
       "      <td>2021-08-31 08:00:00</td>\n",
       "      <td>2002</td>\n",
       "      <td>2020</td>\n",
       "      <td>True</td>\n",
       "      <td>[railway system, type of accident, casualty, t...</td>\n",
       "    </tr>\n",
       "    <tr>\n",
       "      <th>165</th>\n",
       "      <td>SKIB95</td>\n",
       "      <td>Accidents at sea involving danish vessels</td>\n",
       "      <td>Number</td>\n",
       "      <td>2021-09-21 08:00:00</td>\n",
       "      <td>2014</td>\n",
       "      <td>2020</td>\n",
       "      <td>True</td>\n",
       "      <td>[type of accident, type of vessel, scope, time]</td>\n",
       "    </tr>\n",
       "    <tr>\n",
       "      <th>166</th>\n",
       "      <td>SKIB96</td>\n",
       "      <td>Accidents at sea in Danish sea territory</td>\n",
       "      <td>Number</td>\n",
       "      <td>2021-09-21 08:00:00</td>\n",
       "      <td>2014</td>\n",
       "      <td>2020</td>\n",
       "      <td>True</td>\n",
       "      <td>[type of accident, type of vessel, scope, land...</td>\n",
       "    </tr>\n",
       "  </tbody>\n",
       "</table>\n",
       "<p>167 rows × 8 columns</p>\n",
       "</div>"
      ],
      "text/plain": [
       "          id                                               text    unit  \\\n",
       "0       BIL5                 New registration of motor vehicles  Number   \n",
       "1      BIL55                     New registrated passenger cars  Number   \n",
       "2       BIL6  New registrations, sale of second hand vehicle...  Number   \n",
       "3      BIL50                 New registration of passenger cars       -   \n",
       "4      BIL51                New registrations of passenger cars  Number   \n",
       "..       ...                                                ...     ...   \n",
       "162  MOERKE1  Injured in road traffic accidents reported by ...  Number   \n",
       "163   BANE91  Fatalities and injuries in railway traffic acc...  Number   \n",
       "164   BANE92  Fatalities and injuries in railway traffic acc...  Number   \n",
       "165   SKIB95          Accidents at sea involving danish vessels  Number   \n",
       "166   SKIB96           Accidents at sea in Danish sea territory  Number   \n",
       "\n",
       "                updated firstPeriod latestPeriod  active  \\\n",
       "0   2022-04-12 08:00:00     1992M01      2022M03    True   \n",
       "1   2022-04-12 08:00:00     2007M01      2022M03    True   \n",
       "2   2022-04-12 08:00:00     2000M01      2022M03    True   \n",
       "3   2022-04-12 08:00:00     2004M01      2022M03    True   \n",
       "4   2022-04-12 08:00:00     2011M01      2022M03    True   \n",
       "..                  ...         ...          ...     ...   \n",
       "162 2021-04-16 08:00:00        2009         2018    True   \n",
       "163 2021-08-31 08:00:00        1993         2020    True   \n",
       "164 2021-08-31 08:00:00        2002         2020    True   \n",
       "165 2021-09-21 08:00:00        2014         2020    True   \n",
       "166 2021-09-21 08:00:00        2014         2020    True   \n",
       "\n",
       "                                             variables  \n",
       "0                              [type of vehicle, time]  \n",
       "1                         [type of registration, time]  \n",
       "2                        [type of vehicle, unit, time]  \n",
       "3                 [ownership, car segment, unit, time]  \n",
       "4                        [ownership, propellant, time]  \n",
       "..                                                 ...  \n",
       "162  [reporter, accident situation, means of transp...  \n",
       "163  [railway system, category of person, casualty,...  \n",
       "164  [railway system, type of accident, casualty, t...  \n",
       "165    [type of accident, type of vessel, scope, time]  \n",
       "166  [type of accident, type of vessel, scope, land...  \n",
       "\n",
       "[167 rows x 8 columns]"
      ]
     },
     "execution_count": 7,
     "metadata": {},
     "output_type": "execute_result"
    }
   ],
   "source": [
    "# Opening subset id 7, Transport\n",
    "tables = dst.get_tables(subjects=['7'])\n",
    "tables"
   ]
  },
  {
   "cell_type": "code",
   "execution_count": 8,
   "metadata": {},
   "outputs": [
    {
     "data": {
      "text/html": [
       "<div>\n",
       "<style scoped>\n",
       "    .dataframe tbody tr th:only-of-type {\n",
       "        vertical-align: middle;\n",
       "    }\n",
       "\n",
       "    .dataframe tbody tr th {\n",
       "        vertical-align: top;\n",
       "    }\n",
       "\n",
       "    .dataframe thead th {\n",
       "        text-align: right;\n",
       "    }\n",
       "</style>\n",
       "<table border=\"1\" class=\"dataframe\">\n",
       "  <thead>\n",
       "    <tr style=\"text-align: right;\">\n",
       "      <th></th>\n",
       "      <th>id</th>\n",
       "      <th>text</th>\n",
       "      <th>unit</th>\n",
       "      <th>updated</th>\n",
       "      <th>firstPeriod</th>\n",
       "      <th>latestPeriod</th>\n",
       "      <th>active</th>\n",
       "      <th>variables</th>\n",
       "    </tr>\n",
       "  </thead>\n",
       "  <tbody>\n",
       "    <tr>\n",
       "      <th>0</th>\n",
       "      <td>BIL5</td>\n",
       "      <td>New registration of motor vehicles</td>\n",
       "      <td>Number</td>\n",
       "      <td>2022-04-12 08:00:00</td>\n",
       "      <td>1992M01</td>\n",
       "      <td>2022M03</td>\n",
       "      <td>True</td>\n",
       "      <td>[type of vehicle, time]</td>\n",
       "    </tr>\n",
       "  </tbody>\n",
       "</table>\n",
       "</div>"
      ],
      "text/plain": [
       "     id                                text    unit             updated  \\\n",
       "0  BIL5  New registration of motor vehicles  Number 2022-04-12 08:00:00   \n",
       "\n",
       "  firstPeriod latestPeriod  active                variables  \n",
       "0     1992M01      2022M03    True  [type of vehicle, time]  "
      ]
     },
     "execution_count": 8,
     "metadata": {},
     "output_type": "execute_result"
    }
   ],
   "source": [
    "# Opening table 'BIL5' - Newly registered vehicles\n",
    "tables[tables.id == 'BIL5']"
   ]
  },
  {
   "cell_type": "code",
   "execution_count": 9,
   "metadata": {},
   "outputs": [
    {
     "data": {
      "text/html": [
       "<div>\n",
       "<style scoped>\n",
       "    .dataframe tbody tr th:only-of-type {\n",
       "        vertical-align: middle;\n",
       "    }\n",
       "\n",
       "    .dataframe tbody tr th {\n",
       "        vertical-align: top;\n",
       "    }\n",
       "\n",
       "    .dataframe thead th {\n",
       "        text-align: right;\n",
       "    }\n",
       "</style>\n",
       "<table border=\"1\" class=\"dataframe\">\n",
       "  <thead>\n",
       "    <tr style=\"text-align: right;\">\n",
       "      <th></th>\n",
       "      <th>id</th>\n",
       "      <th>text</th>\n",
       "      <th>elimination</th>\n",
       "      <th>time</th>\n",
       "      <th>values</th>\n",
       "    </tr>\n",
       "  </thead>\n",
       "  <tbody>\n",
       "    <tr>\n",
       "      <th>0</th>\n",
       "      <td>BILTYPE</td>\n",
       "      <td>type of vehicle</td>\n",
       "      <td>True</td>\n",
       "      <td>False</td>\n",
       "      <td>[{'id': '4000100001', 'text': 'Vehicles total'...</td>\n",
       "    </tr>\n",
       "    <tr>\n",
       "      <th>1</th>\n",
       "      <td>Tid</td>\n",
       "      <td>time</td>\n",
       "      <td>False</td>\n",
       "      <td>True</td>\n",
       "      <td>[{'id': '1992M01', 'text': '1992M01'}, {'id': ...</td>\n",
       "    </tr>\n",
       "  </tbody>\n",
       "</table>\n",
       "</div>"
      ],
      "text/plain": [
       "        id             text  elimination   time  \\\n",
       "0  BILTYPE  type of vehicle         True  False   \n",
       "1      Tid             time        False   True   \n",
       "\n",
       "                                              values  \n",
       "0  [{'id': '4000100001', 'text': 'Vehicles total'...  \n",
       "1  [{'id': '1992M01', 'text': '1992M01'}, {'id': ...  "
      ]
     },
     "execution_count": 9,
     "metadata": {},
     "output_type": "execute_result"
    }
   ],
   "source": [
    "# Defining the Consumer Price Index table as FPI\n",
    "CAR_show = dst.get_variables(table_id='BIL5')\n",
    "CAR_show"
   ]
  },
  {
   "cell_type": "code",
   "execution_count": 10,
   "metadata": {
    "tags": []
   },
   "outputs": [],
   "source": [
    "# Illustrating the CAR table by id and text\n",
    "CAR_show = dst.get_variables(table_id='BIL5')"
   ]
  },
  {
   "cell_type": "markdown",
   "metadata": {
    "tags": []
   },
   "source": [
    "## Referencing tabels from DST"
   ]
  },
  {
   "cell_type": "code",
   "execution_count": 11,
   "metadata": {},
   "outputs": [],
   "source": [
    "variables_Fuel = {'VAREGR':['072210','072220'],'ENHED':['100'],'TID':['*']}\n",
    "FPI = dst.get_data(table_id = 'PRIS111', variables=variables_Fuel)\n",
    "variables_CAR = {'BILTYPE':['4000100001','4000101002', '4000104001','4000102001','4000106001'],'TID':['*']}\n",
    "CAR = dst.get_data(table_id = 'BIL5', variables=variables_CAR)\n",
    "FPI.sort_values(by=['VAREGR', 'ENHED', 'TID'], inplace=True)\n",
    "CAR.sort_values(by=['BILTYPE', 'TID'], inplace=True)"
   ]
  },
  {
   "cell_type": "code",
   "execution_count": 12,
   "metadata": {},
   "outputs": [],
   "source": [
    "#rensning af CAR dataset\n",
    "CAR_TEMP=CAR.TID.str.split(\"M\", expand=True)\n",
    "CAR = pd.concat([CAR,CAR_TEMP], axis=1)\n",
    "CAR.drop(['TID'], axis=1, inplace=True)"
   ]
  },
  {
   "cell_type": "code",
   "execution_count": 13,
   "metadata": {},
   "outputs": [],
   "source": [
    "CAR[2]='01'"
   ]
  },
  {
   "cell_type": "code",
   "execution_count": 14,
   "metadata": {},
   "outputs": [],
   "source": [
    "CAR[3]=CAR[0]+\"-\"+CAR[1]+\"-\"+CAR[2]\n",
    "CAR_TEMP=pd.to_datetime(CAR[3], infer_datetime_format = True)"
   ]
  },
  {
   "cell_type": "code",
   "execution_count": 15,
   "metadata": {
    "tags": []
   },
   "outputs": [],
   "source": [
    "CAR_TEMP = pd.concat([CAR,CAR_TEMP], axis=1)\n",
    "CAR.drop([0, 1, 2], axis=1, inplace=True)\n"
   ]
  },
  {
   "cell_type": "code",
   "execution_count": 16,
   "metadata": {},
   "outputs": [
    {
     "data": {
      "text/html": [
       "<div>\n",
       "<style scoped>\n",
       "    .dataframe tbody tr th:only-of-type {\n",
       "        vertical-align: middle;\n",
       "    }\n",
       "\n",
       "    .dataframe tbody tr th {\n",
       "        vertical-align: top;\n",
       "    }\n",
       "\n",
       "    .dataframe thead th {\n",
       "        text-align: right;\n",
       "    }\n",
       "</style>\n",
       "<table border=\"1\" class=\"dataframe\">\n",
       "  <thead>\n",
       "    <tr style=\"text-align: right;\">\n",
       "      <th></th>\n",
       "      <th>BILTYPE</th>\n",
       "      <th>INDHOLD</th>\n",
       "      <th>3</th>\n",
       "    </tr>\n",
       "  </thead>\n",
       "  <tbody>\n",
       "    <tr>\n",
       "      <th>40</th>\n",
       "      <td>Buses, total</td>\n",
       "      <td>58</td>\n",
       "      <td>1992-01-01</td>\n",
       "    </tr>\n",
       "    <tr>\n",
       "      <th>1160</th>\n",
       "      <td>Buses, total</td>\n",
       "      <td>67</td>\n",
       "      <td>1992-02-01</td>\n",
       "    </tr>\n",
       "    <tr>\n",
       "      <th>288</th>\n",
       "      <td>Buses, total</td>\n",
       "      <td>180</td>\n",
       "      <td>1992-03-01</td>\n",
       "    </tr>\n",
       "    <tr>\n",
       "      <th>1363</th>\n",
       "      <td>Buses, total</td>\n",
       "      <td>115</td>\n",
       "      <td>1992-04-01</td>\n",
       "    </tr>\n",
       "    <tr>\n",
       "      <th>488</th>\n",
       "      <td>Buses, total</td>\n",
       "      <td>164</td>\n",
       "      <td>1992-05-01</td>\n",
       "    </tr>\n",
       "    <tr>\n",
       "      <th>...</th>\n",
       "      <td>...</td>\n",
       "      <td>...</td>\n",
       "      <td>...</td>\n",
       "    </tr>\n",
       "    <tr>\n",
       "      <th>750</th>\n",
       "      <td>Vehicles total</td>\n",
       "      <td>18563</td>\n",
       "      <td>2021-11-01</td>\n",
       "    </tr>\n",
       "    <tr>\n",
       "      <th>1600</th>\n",
       "      <td>Vehicles total</td>\n",
       "      <td>21865</td>\n",
       "      <td>2021-12-01</td>\n",
       "    </tr>\n",
       "    <tr>\n",
       "      <th>270</th>\n",
       "      <td>Vehicles total</td>\n",
       "      <td>12778</td>\n",
       "      <td>2022-01-01</td>\n",
       "    </tr>\n",
       "    <tr>\n",
       "      <th>1095</th>\n",
       "      <td>Vehicles total</td>\n",
       "      <td>14085</td>\n",
       "      <td>2022-02-01</td>\n",
       "    </tr>\n",
       "    <tr>\n",
       "      <th>845</th>\n",
       "      <td>Vehicles total</td>\n",
       "      <td>20013</td>\n",
       "      <td>2022-03-01</td>\n",
       "    </tr>\n",
       "  </tbody>\n",
       "</table>\n",
       "<p>1815 rows × 3 columns</p>\n",
       "</div>"
      ],
      "text/plain": [
       "             BILTYPE  INDHOLD           3\n",
       "40      Buses, total       58  1992-01-01\n",
       "1160    Buses, total       67  1992-02-01\n",
       "288     Buses, total      180  1992-03-01\n",
       "1363    Buses, total      115  1992-04-01\n",
       "488     Buses, total      164  1992-05-01\n",
       "...              ...      ...         ...\n",
       "750   Vehicles total    18563  2021-11-01\n",
       "1600  Vehicles total    21865  2021-12-01\n",
       "270   Vehicles total    12778  2022-01-01\n",
       "1095  Vehicles total    14085  2022-02-01\n",
       "845   Vehicles total    20013  2022-03-01\n",
       "\n",
       "[1815 rows x 3 columns]"
      ]
     },
     "execution_count": 16,
     "metadata": {},
     "output_type": "execute_result"
    }
   ],
   "source": [
    "CAR"
   ]
  },
  {
   "cell_type": "code",
   "execution_count": 17,
   "metadata": {},
   "outputs": [],
   "source": [
    "FPI_TEMP=FPI.TID.str.split(\"M\", expand=True)\n",
    "FPI_NY = pd.concat([FPI,FPI_TEMP], axis=1)\n",
    "FPI_NY.drop([0], axis=1, inplace=True)"
   ]
  },
  {
   "cell_type": "code",
   "execution_count": 18,
   "metadata": {},
   "outputs": [],
   "source": [
    "#rensning af FPI dataset\n",
    "FPI_TEMP=FPI.TID.str.split(\"M\", expand=True)\n",
    "FPI = pd.concat([FPI,FPI_TEMP], axis=1)\n",
    "FPI.drop(['TID'], axis=1, inplace=True)"
   ]
  },
  {
   "cell_type": "code",
   "execution_count": 19,
   "metadata": {},
   "outputs": [],
   "source": [
    "FPI[2]='01'"
   ]
  },
  {
   "cell_type": "code",
   "execution_count": 20,
   "metadata": {},
   "outputs": [],
   "source": [
    "FPI[3]=FPI[0]+\"-\"+FPI[1]+\"-\"+FPI[2]\n",
    "FPI_TEMP=pd.to_datetime(FPI[3], infer_datetime_format = True)"
   ]
  },
  {
   "cell_type": "code",
   "execution_count": 21,
   "metadata": {},
   "outputs": [],
   "source": [
    "FPI_TEMP = pd.concat([FPI,FPI_TEMP], axis=1)\n",
    "FPI.drop([0, 1, 2], axis=1, inplace=True)"
   ]
  },
  {
   "cell_type": "code",
   "execution_count": 22,
   "metadata": {},
   "outputs": [
    {
     "data": {
      "text/html": [
       "<div>\n",
       "<style scoped>\n",
       "    .dataframe tbody tr th:only-of-type {\n",
       "        vertical-align: middle;\n",
       "    }\n",
       "\n",
       "    .dataframe tbody tr th {\n",
       "        vertical-align: top;\n",
       "    }\n",
       "\n",
       "    .dataframe thead th {\n",
       "        text-align: right;\n",
       "    }\n",
       "</style>\n",
       "<table border=\"1\" class=\"dataframe\">\n",
       "  <thead>\n",
       "    <tr style=\"text-align: right;\">\n",
       "      <th></th>\n",
       "      <th>VAREGR</th>\n",
       "      <th>ENHED</th>\n",
       "      <th>INDHOLD</th>\n",
       "      <th>3</th>\n",
       "    </tr>\n",
       "  </thead>\n",
       "  <tbody>\n",
       "    <tr>\n",
       "      <th>232</th>\n",
       "      <td>07.2.2.1 Diesel</td>\n",
       "      <td>Index</td>\n",
       "      <td>..</td>\n",
       "      <td>2001-01-01</td>\n",
       "    </tr>\n",
       "    <tr>\n",
       "      <th>160</th>\n",
       "      <td>07.2.2.1 Diesel</td>\n",
       "      <td>Index</td>\n",
       "      <td>..</td>\n",
       "      <td>2001-02-01</td>\n",
       "    </tr>\n",
       "    <tr>\n",
       "      <th>222</th>\n",
       "      <td>07.2.2.1 Diesel</td>\n",
       "      <td>Index</td>\n",
       "      <td>..</td>\n",
       "      <td>2001-03-01</td>\n",
       "    </tr>\n",
       "    <tr>\n",
       "      <th>296</th>\n",
       "      <td>07.2.2.1 Diesel</td>\n",
       "      <td>Index</td>\n",
       "      <td>..</td>\n",
       "      <td>2001-04-01</td>\n",
       "    </tr>\n",
       "    <tr>\n",
       "      <th>352</th>\n",
       "      <td>07.2.2.1 Diesel</td>\n",
       "      <td>Index</td>\n",
       "      <td>..</td>\n",
       "      <td>2001-05-01</td>\n",
       "    </tr>\n",
       "    <tr>\n",
       "      <th>...</th>\n",
       "      <td>...</td>\n",
       "      <td>...</td>\n",
       "      <td>...</td>\n",
       "      <td>...</td>\n",
       "    </tr>\n",
       "    <tr>\n",
       "      <th>153</th>\n",
       "      <td>07.2.2.2 Petrol</td>\n",
       "      <td>Index</td>\n",
       "      <td>122.6</td>\n",
       "      <td>2021-11-01</td>\n",
       "    </tr>\n",
       "    <tr>\n",
       "      <th>425</th>\n",
       "      <td>07.2.2.2 Petrol</td>\n",
       "      <td>Index</td>\n",
       "      <td>115.8</td>\n",
       "      <td>2021-12-01</td>\n",
       "    </tr>\n",
       "    <tr>\n",
       "      <th>351</th>\n",
       "      <td>07.2.2.2 Petrol</td>\n",
       "      <td>Index</td>\n",
       "      <td>119.6</td>\n",
       "      <td>2022-01-01</td>\n",
       "    </tr>\n",
       "    <tr>\n",
       "      <th>1</th>\n",
       "      <td>07.2.2.2 Petrol</td>\n",
       "      <td>Index</td>\n",
       "      <td>125.6</td>\n",
       "      <td>2022-02-01</td>\n",
       "    </tr>\n",
       "    <tr>\n",
       "      <th>347</th>\n",
       "      <td>07.2.2.2 Petrol</td>\n",
       "      <td>Index</td>\n",
       "      <td>137.5</td>\n",
       "      <td>2022-03-01</td>\n",
       "    </tr>\n",
       "  </tbody>\n",
       "</table>\n",
       "<p>510 rows × 4 columns</p>\n",
       "</div>"
      ],
      "text/plain": [
       "              VAREGR  ENHED INDHOLD           3\n",
       "232  07.2.2.1 Diesel  Index      ..  2001-01-01\n",
       "160  07.2.2.1 Diesel  Index      ..  2001-02-01\n",
       "222  07.2.2.1 Diesel  Index      ..  2001-03-01\n",
       "296  07.2.2.1 Diesel  Index      ..  2001-04-01\n",
       "352  07.2.2.1 Diesel  Index      ..  2001-05-01\n",
       "..               ...    ...     ...         ...\n",
       "153  07.2.2.2 Petrol  Index   122.6  2021-11-01\n",
       "425  07.2.2.2 Petrol  Index   115.8  2021-12-01\n",
       "351  07.2.2.2 Petrol  Index   119.6  2022-01-01\n",
       "1    07.2.2.2 Petrol  Index   125.6  2022-02-01\n",
       "347  07.2.2.2 Petrol  Index   137.5  2022-03-01\n",
       "\n",
       "[510 rows x 4 columns]"
      ]
     },
     "execution_count": 22,
     "metadata": {},
     "output_type": "execute_result"
    }
   ],
   "source": [
    "FPI"
   ]
  },
  {
   "cell_type": "code",
   "execution_count": 23,
   "metadata": {},
   "outputs": [],
   "source": [
    "# Merging FPI and CAR with inner-merging\n",
    "FULL = pd.merge(CAR, FPI, on=[3], how='inner')\n",
    "FULL.sort_values([3], inplace=True)\n",
    "FULL = FULL.reset_index()"
   ]
  },
  {
   "cell_type": "code",
   "execution_count": 24,
   "metadata": {
    "tags": []
   },
   "outputs": [],
   "source": [
    "FULL.replace(\"..\" , np.nan, inplace=True)\n",
    "FULL.rename(columns={\"BILTYPE\": \"Vehicle Type\", \"INDHOLD_x\": \"Value\", 3: \"Date\", \"VAREGR\": \"Fuel\", \n",
    "                     \"INDHOLD_y\": \"Price Index\"}, inplace=True)\n",
    "FULL.drop(['ENHED'], axis=1, inplace=True)"
   ]
  },
  {
   "cell_type": "code",
   "execution_count": 25,
   "metadata": {},
   "outputs": [],
   "source": [
    "#Transforming cell values to desired values\n",
    "FULL['Fuel'] = FULL['Fuel'].map(lambda x: x.lstrip('0127. '))"
   ]
  },
  {
   "cell_type": "code",
   "execution_count": 26,
   "metadata": {},
   "outputs": [],
   "source": [
    "FULL[['Vehicle Type', 'Remove This']] = FULL['Vehicle Type'].str.split(\",\", expand=True)\n",
    "FULL.drop(['Remove This'], axis=1, inplace=True)"
   ]
  },
  {
   "cell_type": "code",
   "execution_count": 27,
   "metadata": {},
   "outputs": [
    {
     "data": {
      "text/html": [
       "<div>\n",
       "<style scoped>\n",
       "    .dataframe tbody tr th:only-of-type {\n",
       "        vertical-align: middle;\n",
       "    }\n",
       "\n",
       "    .dataframe tbody tr th {\n",
       "        vertical-align: top;\n",
       "    }\n",
       "\n",
       "    .dataframe thead th {\n",
       "        text-align: right;\n",
       "    }\n",
       "</style>\n",
       "<table border=\"1\" class=\"dataframe\">\n",
       "  <thead>\n",
       "    <tr style=\"text-align: right;\">\n",
       "      <th></th>\n",
       "      <th>index</th>\n",
       "      <th>Vehicle Type</th>\n",
       "      <th>Value</th>\n",
       "      <th>Date</th>\n",
       "      <th>Fuel</th>\n",
       "      <th>Price Index</th>\n",
       "    </tr>\n",
       "  </thead>\n",
       "  <tbody>\n",
       "    <tr>\n",
       "      <th>0</th>\n",
       "      <td>0</td>\n",
       "      <td>Buses</td>\n",
       "      <td>72</td>\n",
       "      <td>2001-01-01</td>\n",
       "      <td>Diesel</td>\n",
       "      <td>NaN</td>\n",
       "    </tr>\n",
       "    <tr>\n",
       "      <th>1</th>\n",
       "      <td>1</td>\n",
       "      <td>Buses</td>\n",
       "      <td>72</td>\n",
       "      <td>2001-01-01</td>\n",
       "      <td>Petrol</td>\n",
       "      <td>NaN</td>\n",
       "    </tr>\n",
       "    <tr>\n",
       "      <th>2</th>\n",
       "      <td>2</td>\n",
       "      <td>Motorcycles</td>\n",
       "      <td>34</td>\n",
       "      <td>2001-01-01</td>\n",
       "      <td>Diesel</td>\n",
       "      <td>NaN</td>\n",
       "    </tr>\n",
       "    <tr>\n",
       "      <th>3</th>\n",
       "      <td>3</td>\n",
       "      <td>Motorcycles</td>\n",
       "      <td>34</td>\n",
       "      <td>2001-01-01</td>\n",
       "      <td>Petrol</td>\n",
       "      <td>NaN</td>\n",
       "    </tr>\n",
       "    <tr>\n",
       "      <th>4</th>\n",
       "      <td>4</td>\n",
       "      <td>Passenger cars</td>\n",
       "      <td>6227</td>\n",
       "      <td>2001-01-01</td>\n",
       "      <td>Diesel</td>\n",
       "      <td>NaN</td>\n",
       "    </tr>\n",
       "    <tr>\n",
       "      <th>...</th>\n",
       "      <td>...</td>\n",
       "      <td>...</td>\n",
       "      <td>...</td>\n",
       "      <td>...</td>\n",
       "      <td>...</td>\n",
       "      <td>...</td>\n",
       "    </tr>\n",
       "    <tr>\n",
       "      <th>2545</th>\n",
       "      <td>2544</td>\n",
       "      <td>Passenger cars</td>\n",
       "      <td>14757</td>\n",
       "      <td>2022-03-01</td>\n",
       "      <td>Diesel</td>\n",
       "      <td>156.4</td>\n",
       "    </tr>\n",
       "    <tr>\n",
       "      <th>2546</th>\n",
       "      <td>2545</td>\n",
       "      <td>Passenger cars</td>\n",
       "      <td>14757</td>\n",
       "      <td>2022-03-01</td>\n",
       "      <td>Petrol</td>\n",
       "      <td>137.5</td>\n",
       "    </tr>\n",
       "    <tr>\n",
       "      <th>2547</th>\n",
       "      <td>2546</td>\n",
       "      <td>Vans and lorries</td>\n",
       "      <td>3408</td>\n",
       "      <td>2022-03-01</td>\n",
       "      <td>Diesel</td>\n",
       "      <td>156.4</td>\n",
       "    </tr>\n",
       "    <tr>\n",
       "      <th>2548</th>\n",
       "      <td>2547</td>\n",
       "      <td>Vans and lorries</td>\n",
       "      <td>3408</td>\n",
       "      <td>2022-03-01</td>\n",
       "      <td>Petrol</td>\n",
       "      <td>137.5</td>\n",
       "    </tr>\n",
       "    <tr>\n",
       "      <th>2549</th>\n",
       "      <td>2549</td>\n",
       "      <td>Vehicles total</td>\n",
       "      <td>20013</td>\n",
       "      <td>2022-03-01</td>\n",
       "      <td>Petrol</td>\n",
       "      <td>137.5</td>\n",
       "    </tr>\n",
       "  </tbody>\n",
       "</table>\n",
       "<p>2550 rows × 6 columns</p>\n",
       "</div>"
      ],
      "text/plain": [
       "      index      Vehicle Type  Value        Date    Fuel Price Index\n",
       "0         0             Buses     72  2001-01-01  Diesel         NaN\n",
       "1         1             Buses     72  2001-01-01  Petrol         NaN\n",
       "2         2       Motorcycles     34  2001-01-01  Diesel         NaN\n",
       "3         3       Motorcycles     34  2001-01-01  Petrol         NaN\n",
       "4         4    Passenger cars   6227  2001-01-01  Diesel         NaN\n",
       "...     ...               ...    ...         ...     ...         ...\n",
       "2545   2544    Passenger cars  14757  2022-03-01  Diesel       156.4\n",
       "2546   2545    Passenger cars  14757  2022-03-01  Petrol       137.5\n",
       "2547   2546  Vans and lorries   3408  2022-03-01  Diesel       156.4\n",
       "2548   2547  Vans and lorries   3408  2022-03-01  Petrol       137.5\n",
       "2549   2549    Vehicles total  20013  2022-03-01  Petrol       137.5\n",
       "\n",
       "[2550 rows x 6 columns]"
      ]
     },
     "execution_count": 27,
     "metadata": {},
     "output_type": "execute_result"
    }
   ],
   "source": [
    "FULL"
   ]
  },
  {
   "cell_type": "code",
   "execution_count": 28,
   "metadata": {},
   "outputs": [],
   "source": [
    "FULL['Date'] = pd.to_datetime(FULL['Date'], format='%Y-%m-%d')\n",
    "FULL['Price Index'] = FULL['Price Index'].astype(float)"
   ]
  },
  {
   "cell_type": "code",
   "execution_count": 29,
   "metadata": {},
   "outputs": [
    {
     "data": {
      "text/plain": [
       "array([2001, 2002, 2003, 2004, 2005, 2006, 2007, 2008, 2009, 2010, 2011,\n",
       "       2012, 2013, 2014, 2015, 2016, 2017, 2018, 2019, 2020, 2021, 2022],\n",
       "      dtype=int64)"
      ]
     },
     "execution_count": 29,
     "metadata": {},
     "output_type": "execute_result"
    }
   ],
   "source": [
    "FULL['Date'].dt.year.unique()"
   ]
  },
  {
   "cell_type": "code",
   "execution_count": 30,
   "metadata": {},
   "outputs": [
    {
     "name": "stdout",
     "output_type": "stream",
     "text": [
      "Output:\n",
      "index                    int64\n",
      "Vehicle Type            object\n",
      "Value                    int64\n",
      "Date            datetime64[ns]\n",
      "Fuel                    object\n",
      "Price Index            float64\n",
      "dtype: object\n"
     ]
    }
   ],
   "source": [
    "#Checking whether our variables has the right datatype\n",
    "result = FULL.dtypes\n",
    "\n",
    "print(\"Output:\")\n",
    "print(result)"
   ]
  },
  {
   "cell_type": "markdown",
   "metadata": {},
   "source": [
    "# Descriptive Statistic\n",
    "\n",
    "Now the dataset is both loaded and cleaned and ready to be used for descriptive analysis. This will be presented in the forthcoming section."
   ]
  },
  {
   "cell_type": "markdown",
   "metadata": {},
   "source": [
    "Firstly we will provide a histogram of the amount of newly registered vehicles defined by the vehicle type "
   ]
  },
  {
   "cell_type": "code",
   "execution_count": 31,
   "metadata": {},
   "outputs": [
    {
     "data": {
      "text/html": [
       "<div>\n",
       "<style scoped>\n",
       "    .dataframe tbody tr th:only-of-type {\n",
       "        vertical-align: middle;\n",
       "    }\n",
       "\n",
       "    .dataframe tbody tr th {\n",
       "        vertical-align: top;\n",
       "    }\n",
       "\n",
       "    .dataframe thead th {\n",
       "        text-align: right;\n",
       "    }\n",
       "</style>\n",
       "<table border=\"1\" class=\"dataframe\">\n",
       "  <thead>\n",
       "    <tr style=\"text-align: right;\">\n",
       "      <th></th>\n",
       "      <th>count</th>\n",
       "      <th>mean</th>\n",
       "      <th>std</th>\n",
       "      <th>min</th>\n",
       "      <th>25%</th>\n",
       "      <th>50%</th>\n",
       "      <th>75%</th>\n",
       "      <th>max</th>\n",
       "    </tr>\n",
       "    <tr>\n",
       "      <th>Vehicle Type</th>\n",
       "      <th></th>\n",
       "      <th></th>\n",
       "      <th></th>\n",
       "      <th></th>\n",
       "      <th></th>\n",
       "      <th></th>\n",
       "      <th></th>\n",
       "      <th></th>\n",
       "    </tr>\n",
       "  </thead>\n",
       "  <tbody>\n",
       "    <tr>\n",
       "      <th>Buses</th>\n",
       "      <td>510.0</td>\n",
       "      <td>63.666667</td>\n",
       "      <td>32.305313</td>\n",
       "      <td>4.0</td>\n",
       "      <td>40.25</td>\n",
       "      <td>57.0</td>\n",
       "      <td>80.00</td>\n",
       "      <td>230.0</td>\n",
       "    </tr>\n",
       "    <tr>\n",
       "      <th>Motorcycles</th>\n",
       "      <td>510.0</td>\n",
       "      <td>305.458824</td>\n",
       "      <td>296.438780</td>\n",
       "      <td>9.0</td>\n",
       "      <td>81.00</td>\n",
       "      <td>213.0</td>\n",
       "      <td>444.25</td>\n",
       "      <td>1700.0</td>\n",
       "    </tr>\n",
       "    <tr>\n",
       "      <th>Passenger cars</th>\n",
       "      <td>510.0</td>\n",
       "      <td>13857.227451</td>\n",
       "      <td>3985.495407</td>\n",
       "      <td>6227.0</td>\n",
       "      <td>10649.75</td>\n",
       "      <td>13948.0</td>\n",
       "      <td>16584.25</td>\n",
       "      <td>26188.0</td>\n",
       "    </tr>\n",
       "    <tr>\n",
       "      <th>Vans and lorries</th>\n",
       "      <td>510.0</td>\n",
       "      <td>3206.694118</td>\n",
       "      <td>1179.663057</td>\n",
       "      <td>1154.0</td>\n",
       "      <td>2414.75</td>\n",
       "      <td>3075.0</td>\n",
       "      <td>3636.50</td>\n",
       "      <td>7974.0</td>\n",
       "    </tr>\n",
       "    <tr>\n",
       "      <th>Vehicles total</th>\n",
       "      <td>510.0</td>\n",
       "      <td>18658.172549</td>\n",
       "      <td>4488.248988</td>\n",
       "      <td>9666.0</td>\n",
       "      <td>15141.00</td>\n",
       "      <td>18849.0</td>\n",
       "      <td>21721.00</td>\n",
       "      <td>31448.0</td>\n",
       "    </tr>\n",
       "  </tbody>\n",
       "</table>\n",
       "</div>"
      ],
      "text/plain": [
       "                  count          mean          std     min       25%      50%  \\\n",
       "Vehicle Type                                                                    \n",
       "Buses             510.0     63.666667    32.305313     4.0     40.25     57.0   \n",
       "Motorcycles       510.0    305.458824   296.438780     9.0     81.00    213.0   \n",
       "Passenger cars    510.0  13857.227451  3985.495407  6227.0  10649.75  13948.0   \n",
       "Vans and lorries  510.0   3206.694118  1179.663057  1154.0   2414.75   3075.0   \n",
       "Vehicles total    510.0  18658.172549  4488.248988  9666.0  15141.00  18849.0   \n",
       "\n",
       "                       75%      max  \n",
       "Vehicle Type                         \n",
       "Buses                80.00    230.0  \n",
       "Motorcycles         444.25   1700.0  \n",
       "Passenger cars    16584.25  26188.0  \n",
       "Vans and lorries   3636.50   7974.0  \n",
       "Vehicles total    21721.00  31448.0  "
      ]
     },
     "execution_count": 31,
     "metadata": {},
     "output_type": "execute_result"
    }
   ],
   "source": [
    "#Descriptive statistics on vehicle type\n",
    "FULL.groupby('Vehicle Type')[\"Value\"].describe()"
   ]
  },
  {
   "cell_type": "code",
   "execution_count": 32,
   "metadata": {
    "tags": []
   },
   "outputs": [
    {
     "data": {
      "text/plain": [
       "Text(0.5, 1.0, 'Histograms')"
      ]
     },
     "execution_count": 32,
     "metadata": {},
     "output_type": "execute_result"
    },
    {
     "data": {
      "image/png": "[encoded data removed]",
      "text/plain": [
       "<Figure size 864x576 with 6 Axes>"
      ]
     },
     "metadata": {},
     "output_type": "display_data"
    }
   ],
   "source": [
    "#Plotting histograms on the different vehicle types, by how many vehicles are registered daily \n",
    "FULL['Value'].hist(by=FULL['Vehicle Type'], grid=False, bins=20, figsize=(12,8))\n",
    "plt.title(\"Histograms\")"
   ]
  },
  {
   "cell_type": "markdown",
   "metadata": {},
   "source": [
    "# Plotting the price index\n",
    "\n",
    "The indicies are now plotted, where the year 2015 is 100."
   ]
  },
  {
   "cell_type": "code",
   "execution_count": 33,
   "metadata": {},
   "outputs": [
    {
     "data": {
      "text/plain": [
       "<AxesSubplot:title={'center':'Development in Diesel and Petrol prices, 2015=100'}, xlabel='Year', ylabel='Index'>"
      ]
     },
     "execution_count": 33,
     "metadata": {},
     "output_type": "execute_result"
    },
    {
     "data": {
      "image/png": "[encoded data removed]",
      "text/plain": [
       "<Figure size 432x288 with 1 Axes>"
      ]
     },
     "metadata": {},
     "output_type": "display_data"
    }
   ],
   "source": [
    "FULL.dropna().groupby([\"Date\",'Fuel'])[\"Price Index\"].mean().unstack().plot(legend=True, xlabel='Year', ylabel='Index', title = \"Development in Diesel and Petrol prices, 2015=100\") "
   ]
  },
  {
   "cell_type": "markdown",
   "metadata": {},
   "source": [
    "# Interactive plot"
   ]
  },
  {
   "cell_type": "markdown",
   "metadata": {},
   "source": [
    "This plot shows the correlation between prices on fuel and how many vehicles are registered monthly"
   ]
  },
  {
   "cell_type": "code",
   "execution_count": 38,
   "metadata": {},
   "outputs": [],
   "source": [
    "#Defining the function to create the scatterplot\n",
    "def plot(df,Fuel_Type,Vehicle):\n",
    "    df_temp = df.loc[(df.Fuel==Fuel_Type)&(df[\"Vehicle Type\"]==Vehicle)]\n",
    "    \n",
    "    fig = plt.figure()\n",
    "    ax = fig.add_subplot(111)\n",
    "    \n",
    "    ax.scatter(df_temp[\"Price Index\"],df_temp.Value)\n",
    "    "
   ]
  },
  {
   "cell_type": "code",
   "execution_count": 39,
   "metadata": {},
   "outputs": [
    {
     "data": {
      "application/vnd.jupyter.widget-view+json": {
       "model_id": "673c4642cd734aab82c04ea0b8573a20",
       "version_major": 2,
       "version_minor": 0
      },
      "text/plain": [
       "interactive(children=(Dropdown(description='Fuel_Type', options=('Diesel', 'Petrol'), value='Diesel'), Dropdow…"
      ]
     },
     "metadata": {},
     "output_type": "display_data"
    },
    {
     "data": {
      "text/plain": [
       "<function __main__.plot(df, Fuel_Type, Vehicle)>"
      ]
     },
     "execution_count": 39,
     "metadata": {},
     "output_type": "execute_result"
    }
   ],
   "source": [
    "widgets.interact(plot,\n",
    "                 df = widgets.fixed(FULL),\n",
    "                 Vehicle = widgets.Dropdown(\n",
    "    options = FULL[\"Vehicle Type\"].unique(),\n",
    "    value = \"Buses\"),\n",
    "                Fuel_Type =widgets.Dropdown(\n",
    "    options = FULL[\"Fuel\"].unique(),\n",
    "    value = \"Diesel\"))"
   ]
  },
  {
   "cell_type": "markdown",
   "metadata": {},
   "source": [
    "By selecting the fuel type and the vehicle type the scatterplot shows the correlation between index prices (marked on the x-axis) and the amount of vehicles registered (marked on the y-axis)."
   ]
  },
  {
   "cell_type": "markdown",
   "metadata": {},
   "source": [
    "# Analysis"
   ]
  },
  {
   "cell_type": "markdown",
   "metadata": {},
   "source": [
    "**Summary Statistic**\n",
    "\n",
    "The summary statistic shows that there are 510 observation for each vehicle type. The most bought vehicle type are the passenger cars, whereas the least bought are buses.\n",
    "The mean of newly registered vehicles each month is presented aswell as the minimum and maximum values. Furthermore the 25% and 75% percentile is presented aswell.\n",
    "\n",
    "**Histograms**\n",
    "\n",
    "The histograms supplies a visual representation of the summary statistics. Busses and motor cycles are scewed a alot towards the left, meaning that most months these vehicle types aren't bought much. Vans and lorries and passenger cars follow a more normal distribution. Due to these groups being the biggest, the histogram for all vehicle types take roughly the same shape.\n",
    "\n",
    "**Price Index**\n",
    "\n",
    "From the price index plot of Diesel and Petrol we see that the prices are generally increasing with some drops along the way. Furthermore the plot illustrates that the general prices of Diesel is greater than the price of Petrol."
   ]
  },
  {
   "cell_type": "markdown",
   "metadata": {},
   "source": [
    "**Scatter plot**\n",
    "\n",
    "By analyzing the scatterplot it does not seem like there is any correlation between the price index and the amount of vehicles registered each month. However by adding a line of best fit for each of the vehicle groups it would be possible to make a distinct analysis on each of the vehicle types to see wheter any of them differs in trend. If anything it seems like there is a positive correlation."
   ]
  },
  {
   "cell_type": "markdown",
   "metadata": {},
   "source": [
    "# Conclusion"
   ]
  },
  {
   "cell_type": "markdown",
   "metadata": {},
   "source": [
    "We cannot make a final conclusion that there is a negative relation between fuel pricing and the amount of vehicles registered, which is what intuitivly makes sense. This could be due to the vehicle demand being relativly inelastic towards the fuel pricing!"
   ]
  }
 ],
 "metadata": {
  "kernelspec": {
   "display_name": "Python 3 (ipykernel)",
   "language": "python",
   "name": "python3"
  },
  "language_info": {
   "codemirror_mode": {
    "name": "ipython",
    "version": 3
   },
   "file_extension": ".py",
   "mimetype": "text/x-python",
   "name": "python",
   "nbconvert_exporter": "python",
   "pygments_lexer": "ipython3",
   "version": "3.9.7"
  },
  "toc-autonumbering": true
 },
 "nbformat": 4,
 "nbformat_minor": 4
}
