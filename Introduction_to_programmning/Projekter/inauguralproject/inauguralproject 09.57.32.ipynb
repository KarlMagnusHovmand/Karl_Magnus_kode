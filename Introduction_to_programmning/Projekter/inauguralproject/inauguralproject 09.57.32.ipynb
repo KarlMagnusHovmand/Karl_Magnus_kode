{
 "cells": [
  {
   "cell_type": "markdown",
   "metadata": {},
   "source": [
    "# Inaugural Project"
   ]
  },
  {
   "cell_type": "markdown",
   "metadata": {},
   "source": [
    "> **Note the following:** \n",
    "> 1. This is an example of how to structure your **inaugural project**.\n",
    "> 1. Remember the general advice on structuring and commenting your code from [lecture 5](https://numeconcopenhagen.netlify.com/lectures/Workflow_and_debugging).\n",
    "> 1. Remember this [guide](https://www.markdownguide.org/basic-syntax/) on markdown and (a bit of) latex.\n",
    "> 1. Turn on automatic numbering by clicking on the small icon on top of the table of contents in the left sidebar.\n",
    "> 1. The `inauguralproject.py` file includes a function which can be used multiple times in this notebook."
   ]
  },
  {
   "cell_type": "markdown",
   "metadata": {},
   "source": [
    "Imports and set magics:"
   ]
  },
  {
   "cell_type": "code",
   "execution_count": 1,
   "metadata": {},
   "outputs": [],
   "source": [
    "# magic to reload modules automatically\n",
    "%load_ext autoreload\n",
    "%autoreload 2\n",
    "\n",
    "# standard imports\n",
    "import numpy as np\n",
    "from scipy import optimize\n",
    "from scipy.optimize import minimize_scalar\n",
    "import matplotlib.pyplot as plt\n",
    "plt.style.use('seaborn-whitegrid')\n",
    "from scipy.stats import beta"
   ]
  },
  {
   "cell_type": "markdown",
   "metadata": {},
   "source": [
    "# Question 1"
   ]
  },
  {
   "cell_type": "code",
   "execution_count": 2,
   "metadata": {},
   "outputs": [],
   "source": [
    "# a. defining variabeles\n",
    "#monetary loss by agent (it is an array with 1000 values between 0.01 and 0.9)\n",
    "x_vec=np.linspace(0.01, 0.9, 1000)\n",
    "\n",
    "#assets held by the agent\n",
    "y=1. \n",
    "\n",
    "#probability of loss being insured\n",
    "p=0.2 \n",
    "\n",
    "#utility parameter\n",
    "theta=-2. \n",
    "\n",
    "#b. defining equation\n",
    "def u(z):\n",
    "    \"\"\" utility function\n",
    "    args:\n",
    "        z (float): input variable  \n",
    "    retur\n",
    "        u (ndarray): output array\n",
    "    \"\"\"\n",
    "    return (z**(1.+theta))/(1.+theta)\n",
    "\n",
    "def v(q, x):\n",
    "    \"\"\" expected value of ensured agent\n",
    "    args:\n",
    "        q (float): input variable\n",
    "        x (float): input varaible\n",
    "    return:\n",
    "        v (ndarray): output array\n",
    "    \"\"\"\n",
    "    return p*u(y-x+q-p*q)+(1.-p)*u(y-p*q)\n",
    "\n",
    "#c. finding the optimal q for the agent\n",
    "\n",
    "#defining the optimizing function\n",
    "def opt_q(q_res): \n",
    "    \"\"\" optimal insureance coverage\n",
    "    args:\n",
    "        q_res (ndarray): input array\n",
    "    return:\n",
    "        opt_q (ndarray): output array\n",
    "    \"\"\"\n",
    "    \n",
    "    #looping over x values in x_vec\n",
    "    for i,x in enumerate(x_vec):\n",
    "        \n",
    "        #i defining objective function\n",
    "        obj = lambda q: -v(q, x) \n",
    "        \n",
    "        #ii calling the optimizer\n",
    "        res = optimize.minimize_scalar(obj, bounds=(0,x), method = 'bounded') \n",
    "        \n",
    "        #iii applying the value of the optimizer onto the variable q_res\n",
    "        q_res[i] = res.x \n",
    "\n",
    "#d. definging and applying the values found in c to the opt_q function\n",
    "\n",
    "#defining an empty variable\n",
    "q_res=np.empty(x_vec.size) \n",
    "\n",
    "#applying the values from q_res to the function opt_q\n",
    "opt_q(q_res)"
   ]
  },
  {
   "cell_type": "code",
   "execution_count": 3,
   "metadata": {},
   "outputs": [
    {
     "data": {
      "text/plain": [
       "Text(0, 0.5, 'q-star')"
      ]
     },
     "execution_count": 3,
     "metadata": {},
     "output_type": "execute_result"
    },
    {
     "data": {
      "image/png": "[encoded data removed]",
      "text/plain": [
       "<Figure size 600x400 with 1 Axes>"
      ]
     },
     "metadata": {},
     "output_type": "display_data"
    }
   ],
   "source": [
    "#Print figure\n",
    "fig = plt.figure(dpi=100)\n",
    "ax = fig.add_subplot(1,1,1)\n",
    "ax.plot(x_vec, q_res)\n",
    "ax.set_xlabel('x')\n",
    "ax.set_ylabel('q-star')"
   ]
  },
  {
   "cell_type": "markdown",
   "metadata": {},
   "source": [
    "# Question 2"
   ]
  },
  {
   "cell_type": "code",
   "execution_count": 4,
   "metadata": {},
   "outputs": [],
   "source": [
    "#a. defining variables\n",
    "\n",
    "#value of loss\n",
    "x=0.6 \n",
    "\n",
    "#insurrance coverage (ndarray)\n",
    "q_vec=np.linspace(0.01, x, 1000)\n",
    "\n",
    "#utility incase of no insurance\n",
    "v_0=p*u(y-x)+(1-p)*u(y)\n",
    "\n",
    "#b. defining equations\n",
    "def v_q2(q, pi):\n",
    "    \"\"\" expected value of ensured agent\n",
    "    args:\n",
    "        q (float): input variable\n",
    "        pi (float): input varaible\n",
    "    return:\n",
    "        v_q2 (ndarray): output array\n",
    "    \"\"\"\n",
    "    return p*u(y-x+q-pi)+(1-p)*u(y-pi)\n",
    "\n",
    "def diff(q, pi):\n",
    "    \"\"\" difference in utilty between ensured and unensured agetns\n",
    "    args:\n",
    "        q (float): input variable\n",
    "        pi (float): input varaible\n",
    "    return:\n",
    "        diff (ndarray): output array\n",
    "    \"\"\"\n",
    "    return np.absolute(v_q2(q, pi) - v_0)\n",
    "\n",
    "#c. optimize\n",
    "def opt_pi(pi_tilde):\n",
    "    \"\"\" acceptable premium policies\n",
    "    args:\n",
    "        pi_tilde (empty ndarray): input array\n",
    "    return:\n",
    "        opt_pi (ndarray): output array\n",
    "    \"\"\"\n",
    "    \n",
    "    #looping every q in q_vec into opt_pi\n",
    "    for i,q in enumerate(q_vec):\n",
    "        \n",
    "        #deining the objective function\n",
    "        obj = lambda pi: diff(q, pi)\n",
    "        \n",
    "        #calling the optimizer\n",
    "        res = optimize.minimize_scalar(obj, bounds=(0,q), method = 'bounded')\n",
    "        \n",
    "        #appending the value of res into pi_tilde\n",
    "        pi_tilde[i] = res.x\n",
    "\n",
    "\n",
    "#definging an empty array for the values of res\n",
    "pi_tilde=np.empty(q_vec.size)\n",
    "\n",
    "#applying value of pi_tilde into the acceptable premium policy\n",
    "opt_pi(pi_tilde)\n",
    "#calculating the non optimized pi\n",
    "pi = p*q_vec\n"
   ]
  },
  {
   "cell_type": "code",
   "execution_count": 5,
   "metadata": {},
   "outputs": [
    {
     "data": {
      "image/png": "[encoded data removed]",
      "text/plain": [
       "<Figure size 432x288 with 1 Axes>"
      ]
     },
     "metadata": {},
     "output_type": "display_data"
    }
   ],
   "source": [
    "#Plot figur\n",
    "fig = plt.figure()\n",
    "ax = fig.add_subplot(1,1,1)\n",
    "\n",
    "ax.plot(q_vec,pi_tilde,ls='-',lw=2,color='red',label='Acceptable premiums')\n",
    "ax.plot(q_vec,pi,ls='-',lw=2,color='green',label='Pi')\n",
    "ax.fill_between(q_vec, pi, pi_tilde, facecolor=\"red\", alpha=0.05)\n",
    "\n",
    "ax.set_xlabel('q')\n",
    "ax.set_ylabel('premiums')\n",
    "ax.legend(loc='upper left',frameon=True);"
   ]
  },
  {
   "cell_type": "markdown",
   "metadata": {},
   "source": [
    "# Question 3"
   ]
  },
  {
   "cell_type": "code",
   "execution_count": 6,
   "metadata": {
    "tags": []
   },
   "outputs": [
    {
     "name": "stdout",
     "output_type": "stream",
     "text": [
      "The utilility of insurance 1 is -1.067845494958894 and the utility of insurance 2 is -1.1777496706934958\n",
      "Incurance 1 is therefore preferable to the agent\n"
     ]
    }
   ],
   "source": [
    "# a. define variabele\n",
    "#setting seet\n",
    "np.random.seed(1997)\n",
    "\n",
    "#drawing x's from a beta distrubution\n",
    "x_beta = np.random.beta(a=2,b=7,size=50000)\n",
    "\n",
    "# b. defining functions\n",
    "def montecarlo(gamma, pi_q3):\n",
    "    \"\"\" the agents utility level with x drawn from beta distrubtion \n",
    "    args:\n",
    "        gamma (float): input value\n",
    "        pi_q3 (ndarray): input array\n",
    "    return:\n",
    "        np.mean (float): output value\n",
    "    \"\"\"\n",
    "    pi_q3=p*gamma*x_beta\n",
    "    return np.mean(u(y-(1-gamma)*x_beta-pi_q3))\n",
    "\n",
    "#c. applying the montecarlo function to the two insurance casses\n",
    "insurance_1 = montecarlo(0.9, 0.2)\n",
    "insurance_2 = montecarlo(0.45, 0.11)\n",
    "\n",
    "#d. printing result\n",
    "print(\"The utilility of insurance 1 is \"+str(insurance_1)+\" and the utility of insurance 2 is \"+str(insurance_2))\n",
    "\n",
    "if insurance_1>insurance_2:\n",
    "    print(\"Incurance 1 is therefore preferable to the agent\") \n",
    "else: \n",
    "    print(\"Incurance 2 is therefore preferable to the agent\")"
   ]
  },
  {
   "cell_type": "markdown",
   "metadata": {},
   "source": [
    "# Questen 4"
   ]
  },
  {
   "cell_type": "code",
   "execution_count": 7,
   "metadata": {},
   "outputs": [
    {
     "name": "stdout",
     "output_type": "stream",
     "text": [
      "Profit maximizing premium is : 0.57000\n"
     ]
    }
   ],
   "source": [
    "#a. definging variables\n",
    "\n",
    "#ensurance coverage\n",
    "gamma=0.95\n",
    "\n",
    "#globally defining pi_q3 (this can be done now because gamme is defined\n",
    "pi_q3=p*gamma*x_beta\n",
    "\n",
    "#b. defining functions\n",
    "def montecarlo_insurance(pi_q3):\n",
    "    \"\"\" the agnets utility given insureance\n",
    "    args:\n",
    "        pi_q3 (ndarray): input array\n",
    "    return:\n",
    "        monetecarlo_insurance (float): output value\n",
    "    \"\"\"\n",
    "    \n",
    "    #the mean value of ensurence for the agent\n",
    "    return np.mean(u(y-(1-gamma)*x-pi_q3))\n",
    " \n",
    "def montecarlo_noinsurance(pi_q3):\n",
    "    \"\"\" the agents utility given no insureance\n",
    "    args:\n",
    "        pi_q3 (ndarray): input array\n",
    "    return:\n",
    "        monetecarlo_noinsurance (float): output value\n",
    "    \"\"\"\n",
    "    # the utility of the agent given no profit the firm and the agent has the whole burden of the loss\n",
    "    return np.mean(u(y-x))\n",
    "\n",
    "#c. optimizing \n",
    "obj = lambda pi_q3: np.absolute(montecarlo_insurance(pi_q3)-montecarlo_noinsurance(pi_q3))\n",
    "pi_star_guess=0.1\n",
    "res_q4 = optimize.root(obj, pi_star_guess, method = 'broyden1')\n",
    "pi_star = res_q4.x\n",
    "\n",
    "#d. oprinting output\n",
    "print(f'Profit maximizing premium is : {pi_star:.5f}')"
   ]
  },
  {
   "cell_type": "code",
   "execution_count": null,
   "metadata": {},
   "outputs": [],
   "source": []
  }
 ],
 "metadata": {
  "kernelspec": {
   "display_name": "Python 3 (ipykernel)",
   "language": "python",
   "name": "python3"
  },
  "language_info": {
   "codemirror_mode": {
    "name": "ipython",
    "version": 3
   },
   "file_extension": ".py",
   "mimetype": "text/x-python",
   "name": "python",
   "nbconvert_exporter": "python",
   "pygments_lexer": "ipython3",
   "version": "3.9.7"
  },
  "toc-autonumbering": true
 },
 "nbformat": 4,
 "nbformat_minor": 4
}
