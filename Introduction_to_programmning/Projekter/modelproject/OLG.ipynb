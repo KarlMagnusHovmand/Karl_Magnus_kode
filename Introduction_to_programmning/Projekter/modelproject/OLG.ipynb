{
 "cells": [
  {
   "cell_type": "markdown",
   "id": "a7d3df0e-7298-43bc-b681-9613f3b0a67a",
   "metadata": {},
   "source": [
    "# OLG Model with extension Pay-as-you-go system"
   ]
  },
  {
   "cell_type": "markdown",
   "id": "cdc71af1-4788-438e-b6ea-c7c82b3593f5",
   "metadata": {},
   "source": [
    "## Import of packages and extensions"
   ]
  },
  {
   "cell_type": "code",
   "execution_count": 1,
   "id": "82d3d7a9-bba2-4389-840f-8c42934b1684",
   "metadata": {},
   "outputs": [],
   "source": [
    "#Reloading packages every time a cell is run\n",
    "%load_ext autoreload\n",
    "%autoreload 2\n",
    "\n",
    "#Loading packages\n",
    "import numpy as np\n",
    "import scipy as sp\n",
    "from scipy import optimize\n",
    "import sympy as sm\n",
    "\n",
    "%matplotlib inline\n",
    "import matplotlib.pyplot as plt\n",
    "import ipywidgets as widgets\n",
    "\n",
    "# Enables sympy to write functions as math\n",
    "sm.init_printing()"
   ]
  },
  {
   "cell_type": "markdown",
   "id": "f4c9a80e-2a45-4633-b753-a380d9c1f49d",
   "metadata": {
    "jp-MarkdownHeadingCollapsed": true,
    "tags": []
   },
   "source": [
    "## Intro"
   ]
  },
  {
   "cell_type": "markdown",
   "id": "271c4ac8-d604-4393-8370-aa8efb1ab754",
   "metadata": {},
   "source": [
    "**What we do**\n",
    "\n",
    "We will examin the Over Lapping Generation (OLG) model. First the genereal setup of the model will be analyzed analytically. Here we derive the different equations of the model ending up with the capital accumulation function for $k^*$. This is then calculated and compared to a numuerical sollution of the model. Aferwards we visualize the transition curve and extend the model to consider a Pay As You Go (PAYG) system. For this model we also find the sollution of the cappital accumulation function and visualize the transiontion to steady state. \n",
    "\n",
    "**About the OLG model**\n",
    "\n",
    "The OLG model considers agents who lives for two generations, the young and the old. The young work and save. The old can not work and must therefore live from what they have saved in the first period. As the model considers ramsey optimizing agents they have one utility function describing both their utility in period t and t+1. This implies the old consume all their captial and savings."
   ]
  },
  {
   "cell_type": "markdown",
   "id": "ef6f1bef-99ac-423f-b796-0d23fba8e566",
   "metadata": {},
   "source": [
    "# Baseline OLG Model setup"
   ]
  },
  {
   "cell_type": "markdown",
   "id": "e8749be7-2c2c-429d-8307-1a3a587d0586",
   "metadata": {},
   "source": [
    "The economy is populated by agents that live for two discrete periods $t$ and $t_{+1}$. $L_t$ individuals are born in period $t$ and we assume the population grows at a constant rate $n$, so:"
   ]
  },
  {
   "cell_type": "markdown",
   "id": "3be29fe8-21b2-4750-b78d-d1ad472a3922",
   "metadata": {},
   "source": [
    "$$L_t = L_{t-1}(1+n)$$"
   ]
  },
  {
   "cell_type": "markdown",
   "id": "37fdf855-0171-4f61-bb11-d09ed98dd649",
   "metadata": {},
   "source": [
    "This means that there are $L_t$ (young people) and $L_{t-1}=\\frac{L_t}{(1+n)}$ (old people) alive in period $t$"
   ]
  },
  {
   "cell_type": "code",
   "execution_count": 2,
   "id": "4d984878-9fe7-475c-a7f3-bf41fca85ed4",
   "metadata": {},
   "outputs": [],
   "source": [
    "# Young and old people alive in period t\n",
    "[Lty, Lto] = sm.symbols('L_t L_t-1')\n",
    "\n",
    "# Population groth rate, n\n",
    "n = sm.symbols('n')"
   ]
  },
  {
   "cell_type": "code",
   "execution_count": 3,
   "id": "aef55e0c-6c58-4977-981f-a9cd422fec00",
   "metadata": {},
   "outputs": [],
   "source": [
    "# Defining the equation\n",
    "Lty = Lto*(1+n)"
   ]
  },
  {
   "cell_type": "markdown",
   "id": "f94c6589-8703-4404-96df-47d2478d466b",
   "metadata": {},
   "source": [
    "**Budget constraints**"
   ]
  },
  {
   "cell_type": "markdown",
   "id": "0e0f5c63-67e1-41c8-a9c8-52f1010173c2",
   "metadata": {},
   "source": [
    "Agents work when they're young and they supply 1 unit of labor inelastically at wage rate $w_t$. They split the labor income between consumption $c_{1t}$ and savings $s_t$ and retire when old and just consume their gross savings. We let $r_{t+1}$ denote the interest rate between $t$ and $t+1$."
   ]
  },
  {
   "cell_type": "code",
   "execution_count": 4,
   "id": "6f1b0ae0-6206-4b10-8f1d-45a2bff40c8c",
   "metadata": {},
   "outputs": [],
   "source": [
    "# Defining wage rate, savings and interest rate parameters\n",
    "[wt, st, rt1] = sm.symbols('w_t s_t r_t+1')"
   ]
  },
  {
   "cell_type": "markdown",
   "id": "033e3c41-c5ed-4b31-a2bf-d30f1204b386",
   "metadata": {},
   "source": [
    "The budget constraint in each period of life is given as:"
   ]
  },
  {
   "cell_type": "markdown",
   "id": "f855edd0-546e-4e95-a0e1-c59f33304cbb",
   "metadata": {},
   "source": [
    "$$ \\text{Young}: c_{1t}+s_t = w_t $$\n",
    "$$ \\text{Old}: c_{2t+1}=(1+r_{t+1})s_t $$"
   ]
  },
  {
   "cell_type": "code",
   "execution_count": 5,
   "id": "fbf92338-9cad-4f59-9c50-6fe158e67325",
   "metadata": {},
   "outputs": [],
   "source": [
    "# Consumption when young at time t and when old at time t+1\n",
    "[c1t, c2t1] = sm.symbols('c_1t c_2t+1')\n",
    "\n",
    "# Discount rate and factor\n",
    "rho = sm.symbols('rho')\n",
    "discfac = (1/(1+rho))"
   ]
  },
  {
   "cell_type": "code",
   "execution_count": 6,
   "id": "70cf3d81-33af-4175-a6e9-8a6ba067ea23",
   "metadata": {},
   "outputs": [],
   "source": [
    "# Defining the equations\n",
    "ybc = c1t + st - wt # Young budget constraint\n",
    "ybc_help = sm.Eq(c1t + st - wt,0) # Young budget constraint help\n",
    "obc = (1+rt1)*st - c2t1\n",
    "obc_help = sm.Eq((1 + rt1)*st - c2t1,0) # Old budget constraint\n",
    "\n"
   ]
  },
  {
   "cell_type": "markdown",
   "id": "4119dc8c-15e8-49a9-9d43-b1f2d74f62da",
   "metadata": {},
   "source": [
    "By substituting out savings, $s_t$ we can get the intertemporal budget constraint (IBC):"
   ]
  },
  {
   "cell_type": "markdown",
   "id": "5451272f-e93b-496d-ad0e-faf327057508",
   "metadata": {},
   "source": [
    "$$c_{1t}+\\frac{c_{2t+1}}{(1+r_{t+1})}=w_t$$"
   ]
  },
  {
   "cell_type": "code",
   "execution_count": 7,
   "id": "88859cf6-dc7a-4b63-8232-91b4edefff34",
   "metadata": {},
   "outputs": [],
   "source": [
    "# Solving for st in ybc, \"Young budget constraint\"\n",
    "ybc_s = sm.solve(ybc, st) [0] #Young budget constraint isolated savings\n"
   ]
  },
  {
   "cell_type": "code",
   "execution_count": 8,
   "id": "b57d1216-72cc-4cc0-a341-d40d08181cf4",
   "metadata": {},
   "outputs": [],
   "source": [
    "# Substituting out savings\n",
    "IBC_help = obc.subs(st, ybc_s) #Intertemporal constraint equal 0\n",
    "# Isolating wt in the intertemporal budget constraint\n",
    "IBC_wt = sm.solve(IBC_help, wt) [0] #Intertemporal constraint isolated wage"
   ]
  },
  {
   "cell_type": "code",
   "execution_count": 9,
   "id": "6166a149-658a-4344-a8d5-cd6e6a9331de",
   "metadata": {},
   "outputs": [
    {
     "name": "stderr",
     "output_type": "stream",
     "text": [
      "/Users/magnushovmand/opt/anaconda3/lib/python3.9/site-packages/IPython/lib/latextools.py:126: MatplotlibDeprecationWarning: \n",
      "The to_png function was deprecated in Matplotlib 3.4 and will be removed two minor releases later. Use mathtext.math_to_image instead.\n",
      "  mt.to_png(f, s, fontsize=12, dpi=dpi, color=color)\n",
      "/Users/magnushovmand/opt/anaconda3/lib/python3.9/site-packages/IPython/lib/latextools.py:126: MatplotlibDeprecationWarning: \n",
      "The to_rgba function was deprecated in Matplotlib 3.4 and will be removed two minor releases later. Use mathtext.math_to_image instead.\n",
      "  mt.to_png(f, s, fontsize=12, dpi=dpi, color=color)\n",
      "/Users/magnushovmand/opt/anaconda3/lib/python3.9/site-packages/IPython/lib/latextools.py:126: MatplotlibDeprecationWarning: \n",
      "The to_mask function was deprecated in Matplotlib 3.4 and will be removed two minor releases later. Use mathtext.math_to_image instead.\n",
      "  mt.to_png(f, s, fontsize=12, dpi=dpi, color=color)\n",
      "/Users/magnushovmand/opt/anaconda3/lib/python3.9/site-packages/IPython/lib/latextools.py:126: MatplotlibDeprecationWarning: \n",
      "The MathtextBackendBitmap class was deprecated in Matplotlib 3.4 and will be removed two minor releases later. Use mathtext.math_to_image instead.\n",
      "  mt.to_png(f, s, fontsize=12, dpi=dpi, color=color)\n"
     ]
    },
    {
     "data": {
      "image/png": "[encoded data removed]",
      "text/latex": [
       "$\\displaystyle c_{1t} + \\frac{c_{2t+1}}{r_{t+1} + 1} - w_{t}$"
      ],
      "text/plain": [
       "       c₂ₜ₊₁       \n",
       "c₁ₜ + ──────── - wₜ\n",
       "      rₜ₊₁ + 1     "
      ]
     },
     "execution_count": 9,
     "metadata": {},
     "output_type": "execute_result"
    }
   ],
   "source": [
    "IBC = (c1t + (c2t1/(1+rt1) - wt))\n",
    "IBC"
   ]
  },
  {
   "cell_type": "markdown",
   "id": "d0ecce79-cc51-453d-88c6-8ffbc7815825",
   "metadata": {},
   "source": [
    "**Preferences**"
   ]
  },
  {
   "cell_type": "markdown",
   "id": "d2047234-631c-4728-a5b5-58e8b408c0e6",
   "metadata": {},
   "source": [
    "Agents derive utility from consumption while they're alive given as:"
   ]
  },
  {
   "cell_type": "markdown",
   "id": "f27e3591-4211-4685-b3d3-09bb7952c6ac",
   "metadata": {},
   "source": [
    "$$U_t=u(c_{1t})+\\frac{1}{1+\\rho}u(c_{2t+1})$$"
   ]
  },
  {
   "cell_type": "markdown",
   "id": "33b137e4-201d-47ba-8303-08f82be66a3c",
   "metadata": {},
   "source": [
    "We make our first assumption on functional forms, such that the utility of consumption is logarithmic, this means that all agents in the economy is risk averse."
   ]
  },
  {
   "cell_type": "markdown",
   "id": "689482c6-2f0c-448d-a960-3f941d3749ac",
   "metadata": {},
   "source": [
    "$$U(c) = log(c)$$"
   ]
  },
  {
   "cell_type": "code",
   "execution_count": 10,
   "id": "a1d5fc77-7ec9-4577-b70b-4b12916dd5e9",
   "metadata": {},
   "outputs": [],
   "source": [
    "# defining overall utility\n",
    "Ut = sm.symbols('U_t')\n",
    "\n",
    "# Utility in the two periods\n",
    "[u1,u2] = sm.symbols('u1 u2')"
   ]
  },
  {
   "cell_type": "code",
   "execution_count": 11,
   "id": "bbac101c-ed50-42b9-bb7f-a95bed467b38",
   "metadata": {},
   "outputs": [],
   "source": [
    "# Defining the equation\n",
    "uc1 = sm.log(c1t) # Utility for consuming when young\n",
    "uc2 = sm.log(c2t1) # Utility for consuming when old\n",
    "\n"
   ]
  },
  {
   "cell_type": "code",
   "execution_count": 12,
   "id": "e5c05fc8-b609-49ed-86b7-c93aaebe8de2",
   "metadata": {},
   "outputs": [],
   "source": [
    "Ut = uc1 + discfac*uc2 # Overall consuming utility"
   ]
  },
  {
   "cell_type": "markdown",
   "id": "ffb591b2-15de-4075-9a29-445899c76b49",
   "metadata": {},
   "source": [
    "Where:\\\n",
    "$\n",
    "c_{1t}: \\text{Consumption when young at time t}\\\\\n",
    "c_{2t+1}: \\text{Consumption when old at time t+1}\\\\\n",
    "\\rho: \\text{Discount rate}\\\\\n",
    "\\frac{1}{1+\\rho}: \\text{Discount factor}\n",
    "$"
   ]
  },
  {
   "cell_type": "markdown",
   "id": "93cfae31-85ba-4713-9c4b-4449471b8550",
   "metadata": {},
   "source": [
    "**Maximization problem**"
   ]
  },
  {
   "cell_type": "markdown",
   "id": "15a97b71-b0dc-4b88-825c-b5b4398af8a8",
   "metadata": {},
   "source": [
    "Agents born at time $t$ solve the following maximization problem"
   ]
  },
  {
   "cell_type": "markdown",
   "id": "0dd4e17f-68ed-4d47-ab96-af731593a723",
   "metadata": {},
   "source": [
    "$$\\max_{\\substack{c_{1t} \\\\ c_{2t+1}}} u(c_{1t})+\\frac{1}{1+\\rho}u(c_{2t+1})$$"
   ]
  },
  {
   "cell_type": "markdown",
   "id": "e81e68cc-a4cc-4775-ac21-94371273e3fa",
   "metadata": {},
   "source": [
    "Subject to the intertemporal budget constraint (IBC)"
   ]
  },
  {
   "cell_type": "markdown",
   "id": "88b77576-cc55-4efe-9dc0-141fd7e6030b",
   "metadata": {},
   "source": [
    "$$c_{1t}+\\frac{c_{2t+1}}{(1+r_{t+1})}=w_t$$"
   ]
  },
  {
   "cell_type": "markdown",
   "id": "fef66650-584b-4ac8-9c45-faa71c1207e3",
   "metadata": {},
   "source": [
    "The intial old make no choices and fully consume their wealth."
   ]
  },
  {
   "cell_type": "markdown",
   "id": "e9a8c919-750e-4f15-bed1-f9d633be06a5",
   "metadata": {},
   "source": [
    "**Firms and production**"
   ]
  },
  {
   "cell_type": "markdown",
   "id": "9da5f640-2d0b-4832-b890-6e606f0c15b5",
   "metadata": {},
   "source": [
    "The firms are profit optimizing and hereby need to maximize the following function: $$\\max_{K_t, L_t} Y_t - r_tK_t - w_tL_t$$"
   ]
  },
  {
   "cell_type": "markdown",
   "id": "236369b4-9573-48c9-80fb-b2800210778b",
   "metadata": {},
   "source": [
    "Where $Y_t$ is a Cobb-Douglas production function: $$Y_t = K_t^\\alpha L_t^{(1-\\alpha)}$$"
   ]
  },
  {
   "cell_type": "code",
   "execution_count": 13,
   "id": "6ef185fb-ebc6-4427-add7-2d812b46644f",
   "metadata": {},
   "outputs": [],
   "source": [
    "#Variables in the production function.\n",
    "[K_t, L_t] = sm.symbols('K_t L_t') \n",
    "delta = sm.symbols('delta')\n",
    "#capital in the two periodes, both capital per unit of labor aswell as the overall capital and the capital per unit of labor in the steady state.\n",
    "[kt, k2t, K, kss] = sm.symbols('k_t k_t+1 K kss')\n",
    "#the parameters used in the model.\n",
    "[alpha, rho, sigma, slambda] = sm.symbols('alpha rho sigma lambda')"
   ]
  },
  {
   "cell_type": "code",
   "execution_count": 14,
   "id": "13685116-686f-4e7c-b56b-e9d4170c57ae",
   "metadata": {
    "tags": []
   },
   "outputs": [
    {
     "data": {
      "image/png": "[encoded data removed]",
      "text/latex": [
       "$\\displaystyle K_{t}^{\\alpha} L_{t}^{1 - \\alpha}$"
      ],
      "text/plain": [
       "  α   1 - α\n",
       "Kₜ ⋅Lₜ     "
      ]
     },
     "execution_count": 14,
     "metadata": {},
     "output_type": "execute_result"
    }
   ],
   "source": [
    "#Defining the Cobb-Douglas production function:\n",
    "Y = K_t**alpha*L_t**(1-alpha)\n",
    "Y"
   ]
  },
  {
   "cell_type": "markdown",
   "id": "81d704a2-825d-403e-917e-2873edd963a1",
   "metadata": {},
   "source": [
    "By differentiating Y_t with regards to $K_t$ and $L_t$ it is possible to derive the level of $r_t$ and $w_t$"
   ]
  },
  {
   "cell_type": "code",
   "execution_count": 15,
   "id": "ee91db55-e630-43d5-b914-c9a59509417e",
   "metadata": {},
   "outputs": [
    {
     "data": {
      "image/png": "[encoded data removed]",
      "text/latex": [
       "$\\displaystyle K_{t}^{\\alpha - 1} L_{t}^{1 - \\alpha} \\alpha$"
      ],
      "text/plain": [
       "  α - 1   1 - α  \n",
       "Kₜ     ⋅Lₜ     ⋅α"
      ]
     },
     "execution_count": 15,
     "metadata": {},
     "output_type": "execute_result"
    }
   ],
   "source": [
    "r_t = sm.diff(Y,K_t) #deriving with regards to K_t\n",
    "r_t = sm.simplify(r_t) #sharpening the model\n",
    "r_t #display"
   ]
  },
  {
   "cell_type": "code",
   "execution_count": 16,
   "id": "076026c8-1348-4c57-b589-d535c9f1e06c",
   "metadata": {},
   "outputs": [
    {
     "data": {
      "image/png": "[encoded data removed]",
      "text/latex": [
       "$\\displaystyle K_{t}^{\\alpha} L_{t}^{- \\alpha} \\left(1 - \\alpha\\right)$"
      ],
      "text/plain": [
       "  α   -α        \n",
       "Kₜ ⋅Lₜ  ⋅(1 - α)"
      ]
     },
     "execution_count": 16,
     "metadata": {},
     "output_type": "execute_result"
    }
   ],
   "source": [
    "w_t = sm.diff(Y,L_t) #deriving with regards to K_t\n",
    "w_t = sm.simplify(w_t) #sharpening the model\n",
    "w_t #display"
   ]
  },
  {
   "cell_type": "markdown",
   "id": "196880da-ff0f-421e-ae8e-1b63840afdfd",
   "metadata": {},
   "source": [
    "We want to express these equations per unit of labor"
   ]
  },
  {
   "cell_type": "code",
   "execution_count": 17,
   "id": "c675faad-87d2-4d2c-84e9-717a21e32b4f",
   "metadata": {},
   "outputs": [
    {
     "data": {
      "image/png": "[encoded data removed]",
      "text/latex": [
       "$\\displaystyle r_{t+1} = \\alpha k_{t}^{\\alpha - 1}$"
      ],
      "text/plain": [
       "           α - 1\n",
       "rₜ₊₁ = α⋅kₜ     "
      ]
     },
     "execution_count": 17,
     "metadata": {},
     "output_type": "execute_result"
    }
   ],
   "source": [
    "rpl_help = sm.Eq(rt1,(alpha*kt**(alpha-1)))\n",
    "rpl_help\n",
    "\n"
   ]
  },
  {
   "cell_type": "code",
   "execution_count": 18,
   "id": "d3eb1140-b3e9-4cc9-912e-4f20fc8a003e",
   "metadata": {},
   "outputs": [],
   "source": [
    "rpl = alpha*kt**(alpha-1)"
   ]
  },
  {
   "cell_type": "code",
   "execution_count": 19,
   "id": "7a7b4dcf-0972-4907-9a70-58f4e8303847",
   "metadata": {},
   "outputs": [
    {
     "data": {
      "image/png": "[encoded data removed]",
      "text/latex": [
       "$\\displaystyle w_{t} = k_{t}^{\\alpha} \\left(1 - \\alpha\\right)$"
      ],
      "text/plain": [
       "       α        \n",
       "wₜ = kₜ ⋅(1 - α)"
      ]
     },
     "execution_count": 19,
     "metadata": {},
     "output_type": "execute_result"
    }
   ],
   "source": [
    "wpl_help = sm.Eq(wt,((1-alpha)*kt**alpha))\n",
    "wpl_help\n"
   ]
  },
  {
   "cell_type": "code",
   "execution_count": 20,
   "id": "300cf893-b5b1-44db-9c9f-448475406fbd",
   "metadata": {},
   "outputs": [],
   "source": [
    "wpl = kt**alpha*(1-alpha)"
   ]
  },
  {
   "cell_type": "markdown",
   "id": "c029d944-6e9e-4125-bd83-bb7e4b01461d",
   "metadata": {},
   "source": [
    "**Characterizing solution to household problem**"
   ]
  },
  {
   "cell_type": "markdown",
   "id": "eb075d60-3f1d-479e-8ba0-50dcd33109bd",
   "metadata": {},
   "source": [
    "We set up the Lagrangian"
   ]
  },
  {
   "cell_type": "markdown",
   "id": "aa9daea0-9d3b-4da7-b9a5-c263e6735ff9",
   "metadata": {},
   "source": [
    "$$L = u(c_{1t})+\\frac{1}{1+\\rho}u(c_{2t+1})+\\lambda[w-c_{1t}-\\frac{c_{2t+1}}{1+r_{t+1}}]$$"
   ]
  },
  {
   "cell_type": "code",
   "execution_count": 21,
   "id": "ba9e3123-21b0-4984-847b-1ad4b8d57089",
   "metadata": {},
   "outputs": [],
   "source": [
    "# Defining the Lagrangian\n",
    "L = sm.symbols('L')\n",
    "slambda = sm.symbols('lambda')"
   ]
  },
  {
   "cell_type": "code",
   "execution_count": 22,
   "id": "7f7ff3f8-b3c1-4a74-8950-8cdcfce54278",
   "metadata": {},
   "outputs": [
    {
     "data": {
      "image/png": "[encoded data removed]",
      "text/latex": [
       "$\\displaystyle - \\lambda \\left(c_{1t} + \\frac{c_{2t+1}}{r_{t+1} + 1} - w_{t}\\right) + \\log{\\left(c_{1t} \\right)} + \\frac{\\log{\\left(c_{2t+1} \\right)}}{\\rho + 1}$"
      ],
      "text/plain": [
       "    ⎛       c₂ₜ₊₁       ⎞              log(c₂ₜ₊₁)\n",
       "- λ⋅⎜c₁ₜ + ──────── - wₜ⎟ + log(c₁ₜ) + ──────────\n",
       "    ⎝      rₜ₊₁ + 1     ⎠                ρ + 1   "
      ]
     },
     "execution_count": 22,
     "metadata": {},
     "output_type": "execute_result"
    }
   ],
   "source": [
    "# Defining the equation\n",
    "Lagr = Ut - slambda*IBC\n",
    "Lagr"
   ]
  },
  {
   "cell_type": "markdown",
   "id": "a08efdd9-bd67-4e28-9ab5-1b182e18db7a",
   "metadata": {},
   "source": [
    "Now we take the first order condition w.r.t. consumption in period $t$, $t+1$ and $\\lambda$"
   ]
  },
  {
   "cell_type": "code",
   "execution_count": 23,
   "id": "1e234822-ea07-40a6-abff-d068cc7ef8af",
   "metadata": {},
   "outputs": [],
   "source": [
    "# Taking the first order conditions of the Lagrangian\n",
    "def FOC(x):\n",
    "    Lagr_1 = sm.diff(Lagr, x)\n",
    "    Lagr_2 = sm.Eq(Lagr_1,0) \n",
    "    Lagr_3 = sm.solve(Lagr_2, slambda) [0]\n",
    "    return Lagr_3\n",
    "\n",
    "# The first order condition for c_1t and c_2t1\n",
    "Lagr_c1 = FOC(c2t1) # FOC of consumption for young in period 1\n",
    "Lagr_c2 = FOC(c1t) # FOC of consumption for old in period 2"
   ]
  },
  {
   "cell_type": "markdown",
   "id": "830ef61e-84ee-4279-a932-9ac461d38a4a",
   "metadata": {},
   "source": [
    "Now we substitute the Lagrangian multiplier to get the Euler equation:"
   ]
  },
  {
   "cell_type": "code",
   "execution_count": 24,
   "id": "f70e8492-142d-4844-b510-4ffc84e979cc",
   "metadata": {},
   "outputs": [
    {
     "data": {
      "image/png": "[encoded data removed]",
      "text/latex": [
       "$\\displaystyle c_{1t} = \\frac{c_{2t+1} \\left(\\rho + 1\\right)}{r_{t+1} + 1}$"
      ],
      "text/plain": [
       "      c₂ₜ₊₁⋅(ρ + 1)\n",
       "c₁ₜ = ─────────────\n",
       "         rₜ₊₁ + 1  "
      ]
     },
     "execution_count": 24,
     "metadata": {},
     "output_type": "execute_result"
    }
   ],
   "source": [
    "# Getting the Euler Equation\n",
    "Euler_help = sm.Eq(Lagr_c1, Lagr_c2)\n",
    "Euler_help = sm.solve(Euler_help, c1t) [0]\n",
    "Euler = sm.Eq(c1t, Euler_help)\n",
    "Euler"
   ]
  },
  {
   "cell_type": "markdown",
   "id": "dc782b21-dafa-4642-9a68-c4f05ebd3659",
   "metadata": {},
   "source": [
    "The Euler equation describes how marginal utilities of consumption between young and old are optimally related. We equate the marginal cost of giving up a unit of consumption today with the marginal benefit of consuming it (plus interest) tomorrow. "
   ]
  },
  {
   "cell_type": "markdown",
   "id": "b9c06968-76de-4147-abd6-0cafcc8f6ace",
   "metadata": {},
   "source": [
    "**From consumption to savings**"
   ]
  },
  {
   "cell_type": "markdown",
   "id": "78aa7aef-1435-4cc0-af07-29560e7aff9f",
   "metadata": {},
   "source": [
    "Now we turn from optimal consumption to the optimal savings. Now we combine the budget constraints"
   ]
  },
  {
   "cell_type": "markdown",
   "id": "dac701a8-b598-4249-baf7-bb9ab72041ea",
   "metadata": {},
   "source": [
    "$$c_{1t}+s_t=w_t$$"
   ]
  },
  {
   "cell_type": "code",
   "execution_count": 25,
   "id": "dad866d4-61b3-45fe-8027-543495ab6ec6",
   "metadata": {},
   "outputs": [],
   "source": [
    "# Defining the budget constraint for young and old for consumption\n",
    "ybc_c1t = wt-st # Budget constraint for young\n",
    "obc_c2t1 = (1+rt1)*st # Budget constraint for old"
   ]
  },
  {
   "cell_type": "markdown",
   "id": "025beb90-2e53-4bf8-ad03-b580dc1cd610",
   "metadata": {},
   "source": [
    "$$c_{2t+1}=(1+r_{t+1})s_t$$"
   ]
  },
  {
   "cell_type": "markdown",
   "id": "b6567fe7-f3b8-4bff-8da9-36705753ab5c",
   "metadata": {},
   "source": [
    "with the Euler equation from before:"
   ]
  },
  {
   "cell_type": "markdown",
   "id": "e854eb91-27cf-4bc8-8d2b-2507fb410fc3",
   "metadata": {},
   "source": [
    "$$c_{1t}=\\frac{c_{2t+1}(\\rho+1)}{r_{t+1}+1}$$"
   ]
  },
  {
   "cell_type": "code",
   "execution_count": 26,
   "id": "0c60e911-5f1c-4a72-a6db-b0a44eb960c6",
   "metadata": {},
   "outputs": [
    {
     "data": {
      "image/png": "[encoded data removed]",
      "text/latex": [
       "$\\displaystyle - s_{t} + w_{t} = \\frac{c_{2t+1} \\left(\\rho + 1\\right)}{r_{t+1} + 1}$"
      ],
      "text/plain": [
       "           c₂ₜ₊₁⋅(ρ + 1)\n",
       "-sₜ + wₜ = ─────────────\n",
       "              rₜ₊₁ + 1  "
      ]
     },
     "execution_count": 26,
     "metadata": {},
     "output_type": "execute_result"
    }
   ],
   "source": [
    "# Substituting the budget constraints into the Euler equation\n",
    "s1 = Euler.subs(c1t,ybc_c1t)\n",
    "s2 = s1.subs(c2t1, obc_c2t1)\n",
    "s1"
   ]
  },
  {
   "cell_type": "markdown",
   "id": "f286fc3f-067c-482f-8f9d-411d5741b931",
   "metadata": {},
   "source": [
    "Now we substitute out consumption to find the optimal saving:"
   ]
  },
  {
   "cell_type": "code",
   "execution_count": 27,
   "id": "72224a3e-3cdc-41b4-bee9-9309b64ce0ff",
   "metadata": {},
   "outputs": [
    {
     "data": {
      "image/png": "[encoded data removed]",
      "text/latex": [
       "$\\displaystyle s_{t} = \\frac{w_{t}}{\\rho + 2}$"
      ],
      "text/plain": [
       "       wₜ \n",
       "sₜ = ─────\n",
       "     ρ + 2"
      ]
     },
     "execution_count": 27,
     "metadata": {},
     "output_type": "execute_result"
    }
   ],
   "source": [
    "# Substituting out consumption\n",
    "s_help = sm.solve(s2,st) [0]\n",
    "os_help = sm.Eq(st,s_help)\n",
    "os_help\n"
   ]
  },
  {
   "cell_type": "markdown",
   "id": "21ad2700-5fec-4526-b771-c9e42e2dcd49",
   "metadata": {},
   "source": [
    "Due to the log utility there doesn't exist any substitution and income effects, which means that we save a constant fraction of labor income. "
   ]
  },
  {
   "cell_type": "markdown",
   "id": "bcaac2e7-6dbd-45d3-9ff3-340642fbac71",
   "metadata": {},
   "source": [
    "Instead of showing the optimal saving by the wage, we substitute the capital accumulation in."
   ]
  },
  {
   "cell_type": "code",
   "execution_count": 28,
   "id": "0ec2041d-bba1-4cb3-9a5e-9e3aab8e5778",
   "metadata": {},
   "outputs": [],
   "source": [
    "os = wt/(rho+2)"
   ]
  },
  {
   "cell_type": "code",
   "execution_count": 29,
   "id": "20ca0eb6-73a4-461d-b5a9-6660302d15fe",
   "metadata": {},
   "outputs": [
    {
     "data": {
      "image/png": "[encoded data removed]",
      "text/latex": [
       "$\\displaystyle \\frac{k_{t}^{\\alpha} \\left(1 - \\alpha\\right)}{\\rho + 2}$"
      ],
      "text/plain": [
       "  α        \n",
       "kₜ ⋅(1 - α)\n",
       "───────────\n",
       "   ρ + 2   "
      ]
     },
     "execution_count": 29,
     "metadata": {},
     "output_type": "execute_result"
    }
   ],
   "source": [
    "optsaving = os.subs(wt, wpl)\n",
    "optsaving"
   ]
  },
  {
   "cell_type": "markdown",
   "id": "717e5fd7-f2e9-4582-a347-62192fc435cf",
   "metadata": {},
   "source": [
    "**A note on aggregation**"
   ]
  },
  {
   "cell_type": "markdown",
   "id": "e91b8c2e-7ed3-4894-b0c9-2acd4dd17e1f",
   "metadata": {},
   "source": [
    "Once we know individual decisions, we can find out the aggregates in the OLG setting. We start by aggregate savings. As only the young save, and there are $L_t$ of them we get:"
   ]
  },
  {
   "cell_type": "markdown",
   "id": "290c8eb4-dbce-4b70-a851-e59bb7624125",
   "metadata": {},
   "source": [
    "$$S_t=s_tL_t$$"
   ]
  },
  {
   "cell_type": "markdown",
   "id": "79762d60-b851-44d5-893e-6c9f68cb55bd",
   "metadata": {},
   "source": [
    "Aggregate capital stock in $t+1$: "
   ]
  },
  {
   "cell_type": "markdown",
   "id": "b81bf941-4da6-49de-bde1-dec1dccd7d34",
   "metadata": {},
   "source": [
    "(i) Saving by the young: $S_t$ <br> \n",
    "(ii) Dissaving by the old, where they consume all their savings: $-(1-\\delta)K_t)$ <br>\n",
    "(iii) Un-depriated capital carried over from t, which is still employed by the firm: $(1-\\delta)K_t)$ <br>\n",
    "Which gives us:"
   ]
  },
  {
   "cell_type": "markdown",
   "id": "6bb341d9-e48f-4978-b2c8-123dc9be8564",
   "metadata": {},
   "source": [
    "$$K_{t+1}=S_t-(1-\\delta)K_t+(1-\\delta)K_t$$ <br> $$\\leftrightarrow  K_{t+1} = S_t$$ <br> $$\\leftrightarrow \\frac{K{t+1}}{L_t} = \\frac{S_t}{L_t}$$ <br> $$\\leftrightarrow \\frac{K_{t+1}}{L_{t+1}}*\\frac{L_{t+1}}{L_t}=s_t $$ <br> $$\\leftrightarrow k_{t+1}(1+n)=s_t $$"
   ]
  },
  {
   "cell_type": "markdown",
   "id": "82311e51-b612-4cfb-b980-f2526a6ad3b7",
   "metadata": {},
   "source": [
    "Therefore the capital accumulation per worker becomes:"
   ]
  },
  {
   "cell_type": "markdown",
   "id": "575320b6-0639-45a8-acb1-6642c28a0f37",
   "metadata": {},
   "source": [
    "$$k_{t+1}(1+n)=s_t=\\frac{w_t}{2+\\rho}=\\frac{k_t^\\alpha(1-\\alpha)}{\\rho+2}$$"
   ]
  },
  {
   "cell_type": "markdown",
   "id": "8677db10-4e4e-4230-ac30-a0a3771b047b",
   "metadata": {},
   "source": [
    "This shows that depreciation does not affect the saving in the genereal model."
   ]
  },
  {
   "cell_type": "markdown",
   "id": "2911f627-e103-40bc-b579-0625fb664dad",
   "metadata": {},
   "source": [
    "**Steady state**"
   ]
  },
  {
   "cell_type": "markdown",
   "id": "8c5adaa3-8828-43d1-a5f0-97966dd40137",
   "metadata": {},
   "source": [
    "We know that in steady state the capital is: $$k_{t+1} = k_t = k^*$$"
   ]
  },
  {
   "cell_type": "code",
   "execution_count": 30,
   "id": "82d01644-363c-492f-a13c-677c3c3ed12a",
   "metadata": {},
   "outputs": [],
   "source": [
    "# Defining steady state capital\n",
    "k_star = sm.symbols('k^*')"
   ]
  },
  {
   "cell_type": "raw",
   "id": "3688e6a9-bac9-4a5d-9219-7c88e77a17bc",
   "metadata": {},
   "source": [
    "Now we insert this into the capital accumulation equation:"
   ]
  },
  {
   "cell_type": "code",
   "execution_count": 31,
   "id": "b975a242-f7f7-44ab-b202-9b7bf50ca5a5",
   "metadata": {},
   "outputs": [
    {
     "data": {
      "image/png": "[encoded data removed]",
      "text/latex": [
       "$\\displaystyle k^{*} \\left(n + 1\\right) = \\frac{\\left(k^{*}\\right)^{\\alpha} \\left(1 - \\alpha\\right)}{\\rho + 2}$"
      ],
      "text/plain": [
       "                   α        \n",
       "               k__* ⋅(1 - α)\n",
       "k__*⋅(n + 1) = ─────────────\n",
       "                   ρ + 2    "
      ]
     },
     "execution_count": 31,
     "metadata": {},
     "output_type": "execute_result"
    }
   ],
   "source": [
    "# Defining the Capital accumulation equation with k_star\n",
    "capa = sm.Eq(k_star*(1+n), (((k_star**alpha)*(1-alpha))/(rho+2)))\n",
    "capa"
   ]
  },
  {
   "cell_type": "code",
   "execution_count": 32,
   "id": "ca3ce850-cf42-4f61-a17b-d870abe8819b",
   "metadata": {},
   "outputs": [
    {
     "name": "stdout",
     "output_type": "stream",
     "text": [
      "The steady state in the General OLG model is:\n"
     ]
    },
    {
     "data": {
      "image/png": "[encoded data removed]",
      "text/latex": [
       "$\\displaystyle k^{*} = \\left(\\frac{1 - \\alpha}{n \\rho + 2 n + \\rho + 2}\\right)^{- \\frac{1}{\\alpha - 1}}$"
      ],
      "text/plain": [
       "                           -1  \n",
       "                          ─────\n",
       "                          α - 1\n",
       "       ⎛      1 - α      ⎞     \n",
       "k__* = ⎜─────────────────⎟     \n",
       "       ⎝n⋅ρ + 2⋅n + ρ + 2⎠     "
      ]
     },
     "metadata": {},
     "output_type": "display_data"
    }
   ],
   "source": [
    "#Solving for steady state k_star\n",
    "ss = sm.Eq(k_star,(((1-alpha)*(k_star**alpha))/((2+rho)*(1+n))))\n",
    "kss = sm.solve(capa, k_star)[0]\n",
    "print(f'The steady state in the General OLG model is:')\n",
    "display(sm.Eq(k_star,kss))"
   ]
  },
  {
   "cell_type": "markdown",
   "id": "80a5a87f-578f-41de-bdad-4ac35efd9f21",
   "metadata": {},
   "source": [
    "## Analytical solution"
   ]
  },
  {
   "cell_type": "code",
   "execution_count": 33,
   "id": "9d17e3bc-c96a-4022-9cd2-ab2ec4426f08",
   "metadata": {},
   "outputs": [],
   "source": [
    "# Solves transition curve to find SS k\n",
    "ss = sm.Eq(k_star,(((1-alpha)*(k_star**alpha))/((2+rho)*(1+n))))\n",
    "kss = sm.solve(ss,k_star)[0]\n",
    "k = sm.symbols('k^*')\n"
   ]
  },
  {
   "cell_type": "code",
   "execution_count": 34,
   "id": "0bf18935-c626-4469-be76-8d370338e339",
   "metadata": {
    "tags": []
   },
   "outputs": [],
   "source": [
    "ss_func = sm.lambdify((alpha,n,rho),kss)"
   ]
  },
  {
   "cell_type": "markdown",
   "id": "49d22fb4-9a59-449d-8f7c-03c2cf6eb989",
   "metadata": {},
   "source": [
    "$\\alpha$ is capitals share of production. Widely it is considered to be 1/3\n",
    "\n",
    "n is the population growth. According to Statistics Denmark the growth of the danish population was 0,4pct. in 2018\n",
    "\n",
    "$\\rho$ is how much a person prefer consumption today relative to tomorrow. We arbitrarly set it to 0.1"
   ]
  },
  {
   "cell_type": "code",
   "execution_count": 35,
   "id": "a3040bfa-2dbb-48bf-abe9-1fa59588f88a",
   "metadata": {},
   "outputs": [
    {
     "data": {
      "image/png": "[encoded data removed]",
      "text/latex": [
       "$\\displaystyle 0.177800754716679$"
      ],
      "text/plain": [
       "0.17780075471667864"
      ]
     },
     "execution_count": 35,
     "metadata": {},
     "output_type": "execute_result"
    }
   ],
   "source": [
    "# Solves SS for k, given input\n",
    "ss_func(1/3,0.004,0.1)"
   ]
  },
  {
   "cell_type": "code",
   "execution_count": null,
   "id": "d31568da-28ec-4636-b26a-72c34f0eeda3",
   "metadata": {},
   "outputs": [],
   "source": []
  },
  {
   "cell_type": "markdown",
   "id": "3f1b5778-5d2d-4fe3-a9f2-fe6b0598977b",
   "metadata": {},
   "source": [
    "## Nummerical solution"
   ]
  },
  {
   "cell_type": "code",
   "execution_count": 36,
   "id": "5accc6d7-2f3b-43c9-a5d4-883289165e6c",
   "metadata": {},
   "outputs": [],
   "source": [
    "# Defines global values for parameters\n",
    "alpha = 1/3\n",
    "n = 0.004\n",
    "rho = 0.1"
   ]
  },
  {
   "cell_type": "code",
   "execution_count": 37,
   "id": "e72ac42d-3e02-49d8-8aa5-11a8739e5d4b",
   "metadata": {},
   "outputs": [
    {
     "data": {
      "text/plain": [
       "      converged: True\n",
       "           flag: 'converged'\n",
       " function_calls: 8\n",
       "     iterations: 7\n",
       "           root: 0.17780075471666412"
      ]
     },
     "execution_count": 37,
     "metadata": {},
     "output_type": "execute_result"
    }
   ],
   "source": [
    "obj_kss = lambda kss: kss - ((1-alpha)*(kss**alpha))/((2+rho)*(1+n))\n",
    "result = optimize.root_scalar(obj_kss,bracket=[0.1,100],method='brentq')\n",
    "result"
   ]
  },
  {
   "cell_type": "markdown",
   "id": "f6df3e62-b79a-4e01-906d-ff463e40abb9",
   "metadata": {},
   "source": [
    "We see that both the analytical and nurmerical solution is $k^*=0.1778$"
   ]
  },
  {
   "cell_type": "markdown",
   "id": "f73a6675-8c38-4fe4-825b-fc658b5413a4",
   "metadata": {},
   "source": [
    "## Visualization"
   ]
  },
  {
   "cell_type": "markdown",
   "id": "69952cd3-48c1-4fab-a720-fe10c5b3bc35",
   "metadata": {},
   "source": [
    "We isolate $k_{t+1}$ in the capital accumulation per worker equation"
   ]
  },
  {
   "cell_type": "markdown",
   "id": "0b70e3ae-a947-426c-8714-61d5d5abc4bd",
   "metadata": {},
   "source": [
    "$$k_{t+1}=\\frac{k_t^\\alpha(1-\\alpha)}{(\\rho+2)(1+n)}$$"
   ]
  },
  {
   "cell_type": "markdown",
   "id": "307cd53c-d173-417e-8624-ea521f79d551",
   "metadata": {},
   "source": [
    "Now we plot."
   ]
  },
  {
   "cell_type": "code",
   "execution_count": 38,
   "id": "2477b039-ff06-434b-b16c-3e55b68825b8",
   "metadata": {},
   "outputs": [
    {
     "data": {
      "image/png": "[encoded data removed]",
      "text/plain": [
       "<Figure size 720x720 with 1 Axes>"
      ]
     },
     "metadata": {
      "needs_background": "light"
     },
     "output_type": "display_data"
    }
   ],
   "source": [
    "plt.rcParams[\"figure.figsize\"] = [10, 10]\n",
    "plt.rcParams[\"figure.autolayout\"] = True\n",
    "\n",
    "def f(k_t):\n",
    "       return ((k_t**alpha)*(1-alpha))/((rho+2)*(1+n))\n",
    "\n",
    "k_t = np.linspace(0, 1, 1000)\n",
    "\n",
    "fig = plt.figure()\n",
    "ax = fig.add_subplot(1,1,1)\n",
    "ax.set_title('Steady state dynamics')\n",
    "ax.plot(k_t, f(k_t), color='red')\n",
    "ax.plot(k_t, k_t)\n",
    "\n",
    " \n",
    "\n",
    "ax.axhline(y=0.17778, xmin=0.0, xmax=0.71, color='black', linestyle='dashed')\n",
    "ax.axvline(x=0.17778, ymin=0.0, ymax=0.71, color='black', linestyle='dashed')\n",
    "\n",
    "ax.axvline(x=0.02, ymin=0.0, ymax=0.35, color='black')\n",
    "plt.arrow(0.02, f(0.0), 0.00, f(0.01)-f(0), shape='full', lw=0, length_includes_head=False, head_width=.005, color='black')\n",
    "plt.arrow(0.02, f(0.0), 0.00, f(0.001)-f(0), shape='full', lw=0, length_includes_head=False, head_width=.005, color='black')\n",
    "\n",
    "ax.axhline(y=0.087, xmin=0.08, xmax=0.35, color='black')\n",
    "plt.arrow(0.020, f(0.021), 0.05, f(0.0)-f(0), shape='full', lw=0, length_includes_head=False, head_width=.005, color='black')\n",
    "plt.arrow(0.020, f(0.021), 0.02, f(0.0)-f(0), shape='full', lw=0, length_includes_head=False, head_width=.005, color='black')\n",
    "\n",
    "ax.axvline(x=0.087, ymin=0.35, ymax=0.56, color='black')\n",
    "plt.arrow(0.087, f(0.021), 0.00, f(0.0001)-f(0), shape='full', lw=0, length_includes_head=False, head_width=.005, color='black')\n",
    "plt.arrow(0.087, f(0.021), 0.00, f(0.001)-f(0), shape='full', lw=0, length_includes_head=False, head_width=.005, color='black')\n",
    "\n",
    "ax.axhline(y=0.14, xmin=0.35, xmax=0.555, color='black')\n",
    "plt.arrow(0.020, f(0.021), 0.05, f(0.0)-f(0), shape='full', lw=0, length_includes_head=False, head_width=.005, color='black')\n",
    "\n",
    "ax.axvline(x=0.14, ymin=0.557, ymax=0.658, color='black')\n",
    "\n",
    "\n",
    "ax.axhline(y=0.164, xmin=0.559, xmax=0.659, color='black')\n",
    "\n",
    "ax.axvline(x=0.165, ymin=0.659, ymax=0.692, color='black')\n",
    "\n",
    "ax.axhline(y=0.173, xmin=0.666, xmax=0.69, color='black')\n",
    "\n",
    "ax.axvline(x=0.224, ymin=0., ymax=0.77, color='black')\n",
    "\n",
    "ax.axhline(y=0.193, xmin=0.77, xmax=0.9, color='black')\n",
    "\n",
    "ax.axvline(x=0.1924, ymin=0.73, ymax=0.77, color='black')\n",
    "\n",
    "ax.axhline(y=0.183, xmin=0.729, xmax=0.77, color='black')\n",
    "\n",
    "\n",
    "plt.grid()\n",
    "ax.set_xlim([0,0.25])\n",
    "ax.set_ylim([0,0.25])\n",
    "ax.set_xlabel('$k_t$')\n",
    "ax.set_ylabel('$k_{t+1}$')\n",
    "plt.text(0.18,0.17,'$k^*$ = 0,17778')\n",
    "\n",
    "plt.text(0.22,-0.01,'$k´(0)$')\n",
    "plt.text(0.015,-0.01,'$k(0)$')\n",
    "\n",
    "plt.show()"
   ]
  },
  {
   "cell_type": "raw",
   "id": "c7bb1c23-9c33-49c4-8061-243084801db8",
   "metadata": {},
   "source": [
    "def plot_n(n):\n",
    "    print(f\"The analytic solution is {ss_func(alpha, n, rho):.4f}\")\n",
    "    plt.figure(dpi=100)\n",
    "    plt.xlabel('k_t')\n",
    "    plt.ylabel('k_t+1')\n",
    "    plt.title('General OLG model - change in $\\\\n$')\n",
    "    plt.xlim([0,1]) # fixed x range\n",
    "    plt.ylim([0,0.5]) # fixed y range\n",
    "    plt.plot(range(10),range(10), color = 'black')\n",
    "    plt.plot(k_star,trans_func(k_t, alpha, rho, n))\n",
    "    plt.plot(ss_func(alpha, n, rho),ss_func(alpha, n,rho), marker='o')\n",
    "    plt.legend(('45\\N{DEGREE SIGN}-line', 'General OLG', 'Steady state'), loc='upper right')\n",
    "    plt.grid()\n",
    "    return plt"
   ]
  },
  {
   "cell_type": "raw",
   "id": "d2c574ae-d19b-4506-aebd-bc6414a5c95c",
   "metadata": {},
   "source": [
    "#We haven't had succes making the slider work. The intention is that the slider should determine the growth rate of the population\n",
    "#which should effect the slope of the convergence towards steady state. This will be fixed before the exam.\n",
    "widgets.interact(\n",
    "        plot_n, \n",
    "        n = widgets.FloatSlider(\n",
    "            description=\"n\",\n",
    "            min=0.000,\n",
    "            max=0.10,\n",
    "            step=0.001,\n",
    "            value=n_v,\n",
    "            continuous_update=False),)"
   ]
  },
  {
   "cell_type": "markdown",
   "id": "a4a9ee3d-78b9-4fb8-a791-12d7101a7641",
   "metadata": {},
   "source": [
    "# Further analysis - PAYG"
   ]
  },
  {
   "cell_type": "markdown",
   "id": "e7935552-306f-49e7-b2a1-58cfa05c485b",
   "metadata": {},
   "source": [
    "We now extend a Pay As You Go (PAYG) social security system. In the PAYG system the goverment raises a contribution from the current young, $d_t$, and pays it to the current old. "
   ]
  },
  {
   "cell_type": "markdown",
   "id": "69996a3c-dfa2-431f-ad65-c0c29707f520",
   "metadata": {},
   "source": [
    "## Description of the model extension"
   ]
  },
  {
   "cell_type": "markdown",
   "id": "05e46b4e-6590-4270-af8d-858054ad6d69",
   "metadata": {},
   "source": [
    "The agents pay $d_t$ in period t and recive $b_{t+1}$ in period t+1"
   ]
  },
  {
   "cell_type": "markdown",
   "id": "51592f06-ba80-4305-abbb-a6d4dd194fd4",
   "metadata": {},
   "source": [
    "$$ b_{t+1} = (1+n)d_t$$"
   ]
  },
  {
   "cell_type": "markdown",
   "id": "75a7eca0-4b5b-4703-aff3-80330da41e40",
   "metadata": {},
   "source": [
    "The budget constraint for the young in period t is:\n",
    "    $$c_{1t}=w_t-s_t-d_t$$"
   ]
  },
  {
   "cell_type": "markdown",
   "id": "2977b890-2dd3-4ca6-95b2-59da47bc860f",
   "metadata": {},
   "source": [
    "Budget constraint for when the young are old in period t+1"
   ]
  },
  {
   "cell_type": "markdown",
   "id": "6c318093-947a-45af-9bb0-def3db9c9acf",
   "metadata": {},
   "source": [
    "$$c_{2t+1}=(1+r_{t+1})s_t+b_{t+1}=(1+r_{t+1})s_t+(1+n)d_{t+1}$$"
   ]
  },
  {
   "cell_type": "markdown",
   "id": "1ef9b500-4b0c-4f46-aa75-b465f00e4090",
   "metadata": {},
   "source": [
    "The agents do not choose $d_t$ and therefore take it as given. The Euler equation is therefore unchanged:"
   ]
  },
  {
   "cell_type": "markdown",
   "id": "3c4c6ef6-aef0-4f23-ab9d-318460908d3e",
   "metadata": {},
   "source": [
    "$$u'(c_{1t})=\\frac{1+r_{t+1}}{1+\\rho}u'(c_{2t+1})$$"
   ]
  },
  {
   "cell_type": "markdown",
   "id": "68ead92a-b652-4293-9dc0-a1aac0d98bf5",
   "metadata": {},
   "source": [
    "Aggre saving are now given as:"
   ]
  },
  {
   "cell_type": "markdown",
   "id": "bb98e7f7-66d9-41df-892a-e9b9954e349d",
   "metadata": {},
   "source": [
    "$$s_t=(1+n) k_{t+1}$$"
   ]
  },
  {
   "cell_type": "markdown",
   "id": "2d3fb06e-3959-4427-b0a3-5e9943aadd78",
   "metadata": {},
   "source": [
    "Note that the contributions are not transferred across time in this system, so they don’t contribute to capital accumulation. That’s why we don’t have: $$s_t+d_{t+1}$$"
   ]
  },
  {
   "cell_type": "markdown",
   "id": "c7709b15-9e16-43d8-8a27-299237531185",
   "metadata": {},
   "source": [
    "The transiation curve is given as:"
   ]
  },
  {
   "cell_type": "markdown",
   "id": "9c72d289-4581-4938-b304-973121baf3bd",
   "metadata": {},
   "source": [
    "$$\\frac{K_{t+1}}{L_{t+1}}=k_{t+1}=\\frac{1}{(1+n)(2+\\rho)}(1-\\alpha)k^\\alpha_t(1-d)-(1-\\alpha)k^\\alpha_{t+1}d\\frac{(1+\\rho)(1+n)}{1+\\alpha k^{\\alpha-1}_{t+1}-\\delta}$$"
   ]
  },
  {
   "cell_type": "markdown",
   "id": "a3806c42-7964-47c2-8904-28db4d80db28",
   "metadata": {},
   "source": [
    "## Numerical solution of the OLG with PAYG"
   ]
  },
  {
   "cell_type": "markdown",
   "id": "40a00281-f02d-4db4-8323-5f3cabd31596",
   "metadata": {},
   "source": [
    "We need to specify the $\\delta$ and d\n",
    "\n",
    "$\\delta$ is the yearly depreciation. It has over a long time been 2pct. For assume that for now.\n",
    "\n",
    "d is the of the current young wage going to the current old. This is arbitraily set to 0,15."
   ]
  },
  {
   "cell_type": "code",
   "execution_count": 39,
   "id": "6c82432e-21ae-492d-a5cd-f2fd9908794a",
   "metadata": {},
   "outputs": [],
   "source": [
    "delta = 0.02\n",
    "d = 0.15"
   ]
  },
  {
   "cell_type": "code",
   "execution_count": 40,
   "id": "1d1e1ac6-f3aa-4d59-80fd-c8cbc0e02db5",
   "metadata": {},
   "outputs": [
    {
     "data": {
      "text/plain": [
       "      converged: True\n",
       "           flag: 'converged'\n",
       " function_calls: 8\n",
       "     iterations: 7\n",
       "           root: 0.12224767500245007"
      ]
     },
     "execution_count": 40,
     "metadata": {},
     "output_type": "execute_result"
    }
   ],
   "source": [
    "# Solves the numerical solution\n",
    "transition_payg = lambda k_payg, n, rho, alpha, d, delta: ((1/((1+n)*(2+rho)))*((1-alpha)*(k_payg**alpha)*(1-d)-(1-alpha)*(k_payg**alpha)*d*(((1+rho)*(1+n))/(1+alpha*(k_payg**(alpha - 1))-delta))))\n",
    "\n",
    "obj_transition_payg = lambda x, n, rho, alpha, d, delta: x - transition_payg(x, n, rho, alpha, d, delta)\n",
    "result_payg = optimize.root_scalar(obj_transition_payg, args=(n, rho, alpha, d, delta), bracket=[0.1,100],method='brentq')\n",
    "result_payg"
   ]
  },
  {
   "cell_type": "markdown",
   "id": "8232d26b-3b2c-4eff-8f4e-10b1c7d3180b",
   "metadata": {},
   "source": [
    "We now find $k^*_{PAYG}=0.1222$. With the defiend variables the genereal model has more capital accumulating."
   ]
  },
  {
   "cell_type": "markdown",
   "id": "4136b2bf-6abe-4aae-a518-c166c4cb7b8b",
   "metadata": {},
   "source": [
    "## Visualization of extended model"
   ]
  },
  {
   "cell_type": "code",
   "execution_count": 41,
   "id": "d721dedc-df1c-4861-bc79-aab36718a6de",
   "metadata": {},
   "outputs": [
    {
     "name": "stderr",
     "output_type": "stream",
     "text": [
      "/var/folders/l4/8x6whx414bbbxv_bc51fl92c0000gn/T/ipykernel_35695/3946182328.py:5: RuntimeWarning: divide by zero encountered in power\n",
      "  return ((1/((1+n)*(2+rho)))*((1-alpha)*(k_payg**alpha)*(1-d)-(1-alpha)*(k_payg**alpha)*d*(((1+rho)*(1+n))/(1+alpha*(k_payg**(alpha - 1))-delta))))\n"
     ]
    },
    {
     "data": {
      "image/png": "[encoded data removed]",
      "text/plain": [
       "<Figure size 720x720 with 1 Axes>"
      ]
     },
     "metadata": {
      "needs_background": "light"
     },
     "output_type": "display_data"
    }
   ],
   "source": [
    "plt.rcParams[\"figure.figsize\"] = [10, 10]\n",
    "plt.rcParams[\"figure.autolayout\"] = True\n",
    "\n",
    "def f(k_payg):\n",
    "    return ((1/((1+n)*(2+rho)))*((1-alpha)*(k_payg**alpha)*(1-d)-(1-alpha)*(k_payg**alpha)*d*(((1+rho)*(1+n))/(1+alpha*(k_payg**(alpha - 1))-delta))))\n",
    "\n",
    "k_payg = np.linspace(0, 1, 1000)\n",
    "\n",
    "fig1 = plt.figure()\n",
    "ax = fig1.add_subplot(1,1,1)\n",
    "ax.set_title('Steady state dynamics')\n",
    "ax.plot(k_payg, f(k_payg), color='red')\n",
    "ax.plot(k_payg, k_payg)\n",
    "\n",
    "ax.axhline(y=0.1222, xmin=0.0, xmax=0.49, color='black', linestyle='dashed')\n",
    "ax.axvline(x=0.1222, ymin=0.0, ymax=0.49, color='black', linestyle='dashed')\n",
    "\n",
    "\n",
    "plt.grid()\n",
    "ax.set_xlim([0,0.25])\n",
    "ax.set_ylim([0,0.25])\n",
    "ax.set_xlabel('$k_t$')\n",
    "ax.set_ylabel('$k_{t+1}$')\n",
    "plt.text(0.13,0.11,'$k^*$ = 0,1222')\n",
    "\n",
    "plt.show()"
   ]
  },
  {
   "cell_type": "markdown",
   "id": "815fc67d-ba08-4d7f-b9b9-2803d4ed732c",
   "metadata": {},
   "source": [
    "We have choosen to get the y- and x-axis dimentions. In this way it is clearly seen that the capital per capital is smaller forthe OLG with PAYG system."
   ]
  },
  {
   "cell_type": "markdown",
   "id": "7e0aba74-07fe-410c-b690-e54335eabf9b",
   "metadata": {},
   "source": [
    "# Conclusion"
   ]
  },
  {
   "cell_type": "markdown",
   "id": "5902e598-78b7-495e-9d96-db210eaf847e",
   "metadata": {},
   "source": [
    "We have solved the OLG model in the genereal setting and with a pay as you go (PAYG) system. The found value of capital per capita is larger with the general OLG system than in the situation with a PAYG system. In the genereal solution $k^*=0.1778$ and for PAYG $k^*_{PAYG}=0.1222$. This is in line with economic theory. In the PAYG system the young transfers money to the old. Therefore the old do not have to save money. As they do not save capital from period t to t+1 total capital decreases. For $n>\\frac{1+r_{t+1}}{1+\\delta}$ the consumption will be bigger with the PAYG system than in the genreal model despite less capital accumulates."
   ]
  }
 ],
 "metadata": {
  "kernelspec": {
   "display_name": "Python 3 (ipykernel)",
   "language": "python",
   "name": "python3"
  },
  "language_info": {
   "codemirror_mode": {
    "name": "ipython",
    "version": 3
   },
   "file_extension": ".py",
   "mimetype": "text/x-python",
   "name": "python",
   "nbconvert_exporter": "python",
   "pygments_lexer": "ipython3",
   "version": "3.9.7"
  }
 },
 "nbformat": 4,
 "nbformat_minor": 5
}
